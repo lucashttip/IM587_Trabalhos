{
 "cells": [
  {
   "cell_type": "code",
   "execution_count": 1,
   "metadata": {},
   "outputs": [],
   "source": [
    "from sympy import *"
   ]
  },
  {
   "cell_type": "code",
   "execution_count": 96,
   "metadata": {},
   "outputs": [],
   "source": [
    "## Definindo as variaveis simbolicas\n",
    "x, A, B, q1, q2, C1, C2, C3, = symbols('x A B q_1 q_2 C1 C2 C3')\n",
    "q1d, q2d, q1dd, q2dd = symbols('\\dot{q_1} \\dot{q_2} \\ddot{q_1} \\ddot{q_2}')\n",
    "Up, Vp = symbols('U_p V_p')\n",
    "\n",
    "Aq = Function('A')(q1,q2)\n",
    "Bq = Function('B')(q1,q2)\n",
    "Ka1 = Function('K_{A1}')(q1,q2)\n",
    "Ka2 = Function('K_{A2}')(q1,q2)\n",
    "Kb1 = Function('K_{B1}')(q1,q2)\n",
    "Kb2 = Function('K_{B2}')(q1,q2)\n",
    "\n",
    "La11, La12, La21, La22 = symbols('L_{A11} L_{A12} L_{A21} L_{A22}')\n",
    "\n"
   ]
  },
  {
   "cell_type": "code",
   "execution_count": 83,
   "metadata": {},
   "outputs": [
    {
     "data": {
      "text/latex": [
       "$\\displaystyle \\left[\\begin{matrix}B \\cos{\\left(A \\right)} + C_{1} \\cos{\\left(q_{1} \\right)} - C_{2} \\cos{\\left(q_{2} \\right)} - C_{3}\\\\B \\sin{\\left(A \\right)} + C_{1} \\sin{\\left(q_{1} \\right)} - C_{2} \\sin{\\left(q_{2} \\right)}\\end{matrix}\\right]$"
      ],
      "text/plain": [
       "Matrix([\n",
       "[B*cos(A) + C1*cos(q_1) - C2*cos(q_2) - C3],\n",
       "[     B*sin(A) + C1*sin(q_1) - C2*sin(q_2)]])"
      ]
     },
     "metadata": {},
     "output_type": "display_data"
    },
    {
     "data": {
      "text/latex": [
       "$\\displaystyle \\left[\\begin{matrix}A\\\\B\\end{matrix}\\right]$"
      ],
      "text/plain": [
       "Matrix([\n",
       "[A],\n",
       "[B]])"
      ]
     },
     "metadata": {},
     "output_type": "display_data"
    },
    {
     "data": {
      "text/latex": [
       "$\\displaystyle \\left[\\begin{matrix}q_{1}\\\\q_{2}\\end{matrix}\\right]$"
      ],
      "text/plain": [
       "Matrix([\n",
       "[q_1],\n",
       "[q_2]])"
      ]
     },
     "metadata": {},
     "output_type": "display_data"
    },
    {
     "data": {
      "text/latex": [
       "$\\displaystyle \\left[\\begin{matrix}\\dot{q_1}\\\\\\dot{q_2}\\end{matrix}\\right]$"
      ],
      "text/plain": [
       "Matrix([\n",
       "[\\dot{q_1}],\n",
       "[\\dot{q_2}]])"
      ]
     },
     "metadata": {},
     "output_type": "display_data"
    },
    {
     "data": {
      "text/latex": [
       "$\\displaystyle \\left[\\begin{matrix}\\ddot{q_1}\\\\\\ddot{q_2}\\end{matrix}\\right]$"
      ],
      "text/plain": [
       "Matrix([\n",
       "[\\ddot{q_1}],\n",
       "[\\ddot{q_2}]])"
      ]
     },
     "metadata": {},
     "output_type": "display_data"
    }
   ],
   "source": [
    "## Definindo as funções de loop e os vetores das variáveis:\n",
    "\n",
    "f1 = C1*cos(q1) + B*cos(A) - C2*cos(q2) - C3\n",
    "f2 = C1*sin(q1) + B*sin(A) - C2*sin(q2)\n",
    "\n",
    "F = Matrix([f1, f2])\n",
    "S = Matrix([A, B])\n",
    "q = Matrix([q1, q2])\n",
    "qd = Matrix([q1d, q2d])\n",
    "qdd = Matrix([q1dd, q2dd])\n",
    "\n",
    "display(F, S, q, qd, qdd)\n"
   ]
  },
  {
   "cell_type": "code",
   "execution_count": 85,
   "metadata": {},
   "outputs": [
    {
     "data": {
      "text/latex": [
       "$\\displaystyle \\operatorname{atan_{2}}{\\left(- C_{1} \\sin{\\left(q_{1} \\right)} + C_{2} \\sin{\\left(q_{2} \\right)},- C_{1} \\cos{\\left(q_{1} \\right)} + C_{2} \\cos{\\left(q_{2} \\right)} + C_{3} \\right)}$"
      ],
      "text/plain": [
       "atan2(-C1*sin(q_1) + C2*sin(q_2), -C1*cos(q_1) + C2*cos(q_2) + C3)"
      ]
     },
     "metadata": {},
     "output_type": "display_data"
    },
    {
     "data": {
      "text/latex": [
       "$\\displaystyle \\frac{- C_{1} \\cos{\\left(q_{2} \\right)} + C_{2} \\cos{\\left(q_{2} \\right)} + C_{3}}{\\cos{\\left(A \\right)}}$"
      ],
      "text/plain": [
       "(-C1*cos(q_2) + C2*cos(q_2) + C3)/cos(A)"
      ]
     },
     "metadata": {},
     "output_type": "display_data"
    }
   ],
   "source": [
    "# Análise de posição\n",
    "\n",
    "Ap = atan2(C2*sin(q2) - C1*sin(q1), C3 + C2*cos(q2) - C1*cos(q1))\n",
    "Bp = (C3 + C2*cos(q2) - C1*cos(q2))/cos(A)\n",
    "\n",
    "display(Ap,Bp)\n"
   ]
  },
  {
   "cell_type": "code",
   "execution_count": 86,
   "metadata": {},
   "outputs": [
    {
     "data": {
      "text/latex": [
       "$\\displaystyle \\left[\\begin{matrix}- B \\sin{\\left(A \\right)} & \\cos{\\left(A \\right)}\\\\B \\cos{\\left(A \\right)} & \\sin{\\left(A \\right)}\\end{matrix}\\right]$"
      ],
      "text/plain": [
       "Matrix([\n",
       "[-B*sin(A), cos(A)],\n",
       "[ B*cos(A), sin(A)]])"
      ]
     },
     "metadata": {},
     "output_type": "display_data"
    },
    {
     "data": {
      "text/latex": [
       "$\\displaystyle \\left[\\begin{matrix}C_{1} \\sin{\\left(q_{1} \\right)} & - C_{2} \\sin{\\left(q_{2} \\right)}\\\\- C_{1} \\cos{\\left(q_{1} \\right)} & C_{2} \\cos{\\left(q_{2} \\right)}\\end{matrix}\\right]$"
      ],
      "text/plain": [
       "Matrix([\n",
       "[ C1*sin(q_1), -C2*sin(q_2)],\n",
       "[-C1*cos(q_1),  C2*cos(q_2)]])"
      ]
     },
     "metadata": {},
     "output_type": "display_data"
    },
    {
     "data": {
      "text/latex": [
       "$\\displaystyle \\left[\\begin{matrix}- \\frac{C_{1} \\cos{\\left(A - q_{1} \\right)}}{B} & \\frac{C_{2} \\cos{\\left(A - q_{2} \\right)}}{B}\\\\- C_{1} \\sin{\\left(A - q_{1} \\right)} & C_{2} \\sin{\\left(A - q_{2} \\right)}\\end{matrix}\\right]$"
      ],
      "text/plain": [
       "Matrix([\n",
       "[-C1*cos(A - q_1)/B, C2*cos(A - q_2)/B],\n",
       "[  -C1*sin(A - q_1),   C2*sin(A - q_2)]])"
      ]
     },
     "metadata": {},
     "output_type": "display_data"
    }
   ],
   "source": [
    "# Análise de velocidade:\n",
    "J = F.jacobian(S)\n",
    "b = - F.jacobian(q)\n",
    "K = simplify(J.inv()*b)\n",
    "\n",
    "display(J, b, K)"
   ]
  },
  {
   "cell_type": "code",
   "execution_count": 87,
   "metadata": {},
   "outputs": [
    {
     "data": {
      "text/latex": [
       "$\\displaystyle \\left[\\begin{matrix}\\frac{C_{1} \\left(B \\left(\\operatorname{K_{A1}}{\\left(q_{1},q_{2} \\right)} - 1\\right) \\sin{\\left(A - q_{1} \\right)} + \\operatorname{K_{B1}}{\\left(q_{1},q_{2} \\right)} \\cos{\\left(A - q_{1} \\right)}\\right)}{B^{2}} & - \\frac{C_{2} \\left(B \\operatorname{K_{A1}}{\\left(q_{1},q_{2} \\right)} \\sin{\\left(A - q_{2} \\right)} + \\operatorname{K_{B1}}{\\left(q_{1},q_{2} \\right)} \\cos{\\left(A - q_{2} \\right)}\\right)}{B^{2}}\\\\C_{1} \\left(1 - \\operatorname{K_{A1}}{\\left(q_{1},q_{2} \\right)}\\right) \\cos{\\left(A - q_{1} \\right)} & C_{2} \\operatorname{K_{A1}}{\\left(q_{1},q_{2} \\right)} \\cos{\\left(A - q_{2} \\right)}\\end{matrix}\\right]$"
      ],
      "text/plain": [
       "Matrix([\n",
       "[C1*(B*(K_{A1}(q_1, q_2) - 1)*sin(A - q_1) + K_{B1}(q_1, q_2)*cos(A - q_1))/B**2, -C2*(B*K_{A1}(q_1, q_2)*sin(A - q_2) + K_{B1}(q_1, q_2)*cos(A - q_2))/B**2],\n",
       "[                                         C1*(1 - K_{A1}(q_1, q_2))*cos(A - q_1),                                           C2*K_{A1}(q_1, q_2)*cos(A - q_2)]])"
      ]
     },
     "metadata": {},
     "output_type": "display_data"
    },
    {
     "data": {
      "text/latex": [
       "$\\displaystyle \\left[\\begin{matrix}\\frac{C_{1} \\left(B \\operatorname{K_{A2}}{\\left(q_{1},q_{2} \\right)} \\sin{\\left(A - q_{1} \\right)} + \\operatorname{K_{B2}}{\\left(q_{1},q_{2} \\right)} \\cos{\\left(A - q_{1} \\right)}\\right)}{B^{2}} & - \\frac{C_{2} \\left(B \\left(\\operatorname{K_{A2}}{\\left(q_{1},q_{2} \\right)} - 1\\right) \\sin{\\left(A - q_{2} \\right)} + \\operatorname{K_{B2}}{\\left(q_{1},q_{2} \\right)} \\cos{\\left(A - q_{2} \\right)}\\right)}{B^{2}}\\\\- C_{1} \\operatorname{K_{A2}}{\\left(q_{1},q_{2} \\right)} \\cos{\\left(A - q_{1} \\right)} & C_{2} \\left(\\operatorname{K_{A2}}{\\left(q_{1},q_{2} \\right)} - 1\\right) \\cos{\\left(A - q_{2} \\right)}\\end{matrix}\\right]$"
      ],
      "text/plain": [
       "Matrix([\n",
       "[C1*(B*K_{A2}(q_1, q_2)*sin(A - q_1) + K_{B2}(q_1, q_2)*cos(A - q_1))/B**2, -C2*(B*(K_{A2}(q_1, q_2) - 1)*sin(A - q_2) + K_{B2}(q_1, q_2)*cos(A - q_2))/B**2],\n",
       "[                                        -C1*K_{A2}(q_1, q_2)*cos(A - q_1),                                           C2*(K_{A2}(q_1, q_2) - 1)*cos(A - q_2)]])"
      ]
     },
     "metadata": {},
     "output_type": "display_data"
    }
   ],
   "source": [
    "# Análise de aceleração\n",
    "Kl = K.subs([(A, Aq), (B, Bq)])\n",
    "L1 = Kl.diff(q1).subs([(Aq.diff(q1),Ka1), (Bq.diff(q1),Kb1)]).subs([(Aq,A), (Bq, B)]).simplify()\n",
    "L2 = Kl.diff(q2).subs([(Aq.diff(q2),Ka2), (Bq.diff(q2),Kb2)]).subs([(Aq,A), (Bq, B)]).simplify()\n",
    "display(L1,L2)"
   ]
  },
  {
   "cell_type": "code",
   "execution_count": 88,
   "metadata": {},
   "outputs": [],
   "source": [
    "# Sd = K*qd\n",
    "# Sdd = K*qdd + (L1*q1d + L2*q2d)*qd\n",
    "\n",
    "# display(Sd, Sdd)"
   ]
  },
  {
   "cell_type": "code",
   "execution_count": 89,
   "metadata": {},
   "outputs": [
    {
     "data": {
      "text/latex": [
       "$\\displaystyle C_{1} \\cos{\\left(q_{1} \\right)} + U_{p} \\cos{\\left(A{\\left(q_{1},q_{2} \\right)} \\right)} - V_{p} \\sin{\\left(A{\\left(q_{1},q_{2} \\right)} \\right)}$"
      ],
      "text/plain": [
       "C1*cos(q_1) + U_p*cos(A(q_1, q_2)) - V_p*sin(A(q_1, q_2))"
      ]
     },
     "metadata": {},
     "output_type": "display_data"
    },
    {
     "data": {
      "text/latex": [
       "$\\displaystyle C_{1} \\sin{\\left(q_{1} \\right)} + U_{p} \\sin{\\left(A{\\left(q_{1},q_{2} \\right)} \\right)} + V_{p} \\cos{\\left(A{\\left(q_{1},q_{2} \\right)} \\right)}$"
      ],
      "text/plain": [
       "C1*sin(q_1) + U_p*sin(A(q_1, q_2)) + V_p*cos(A(q_1, q_2))"
      ]
     },
     "metadata": {},
     "output_type": "display_data"
    }
   ],
   "source": [
    "# Análise de ponto de interesse:\n",
    "Xp = C1*cos(q1) + Up*cos(Aq) - Vp*sin(Aq)\n",
    "Yp = C1*sin(q1) + Up*sin(Aq) + Vp*cos(Aq)\n",
    "\n",
    "P = Matrix([Xp,Yp])\n",
    "\n",
    "display(Xp, Yp)"
   ]
  },
  {
   "cell_type": "code",
   "execution_count": 90,
   "metadata": {},
   "outputs": [
    {
     "data": {
      "text/latex": [
       "$\\displaystyle \\left[\\begin{matrix}- C_{1} \\sin{\\left(q_{1} \\right)} - U_{p} \\operatorname{K_{A1}}{\\left(q_{1},q_{2} \\right)} \\sin{\\left(A \\right)} - V_{p} \\operatorname{K_{A1}}{\\left(q_{1},q_{2} \\right)} \\cos{\\left(A \\right)} & - U_{p} \\operatorname{K_{A2}}{\\left(q_{1},q_{2} \\right)} \\sin{\\left(A \\right)} - V_{p} \\operatorname{K_{A2}}{\\left(q_{1},q_{2} \\right)} \\cos{\\left(A \\right)}\\\\C_{1} \\cos{\\left(q_{1} \\right)} + U_{p} \\operatorname{K_{A1}}{\\left(q_{1},q_{2} \\right)} \\cos{\\left(A \\right)} - V_{p} \\operatorname{K_{A1}}{\\left(q_{1},q_{2} \\right)} \\sin{\\left(A \\right)} & U_{p} \\operatorname{K_{A2}}{\\left(q_{1},q_{2} \\right)} \\cos{\\left(A \\right)} - V_{p} \\operatorname{K_{A2}}{\\left(q_{1},q_{2} \\right)} \\sin{\\left(A \\right)}\\end{matrix}\\right]$"
      ],
      "text/plain": [
       "Matrix([\n",
       "[-C1*sin(q_1) - U_p*K_{A1}(q_1, q_2)*sin(A) - V_p*K_{A1}(q_1, q_2)*cos(A), -U_p*K_{A2}(q_1, q_2)*sin(A) - V_p*K_{A2}(q_1, q_2)*cos(A)],\n",
       "[ C1*cos(q_1) + U_p*K_{A1}(q_1, q_2)*cos(A) - V_p*K_{A1}(q_1, q_2)*sin(A),  U_p*K_{A2}(q_1, q_2)*cos(A) - V_p*K_{A2}(q_1, q_2)*sin(A)]])"
      ]
     },
     "metadata": {},
     "output_type": "display_data"
    }
   ],
   "source": [
    "# Velocidade do ponto de interesse\n",
    "Kp = P.jacobian(q).subs([(Aq.diff(q1),Ka1), (Aq.diff(q2),Ka2)]).subs([(Aq,A), (Bq, B)])\n",
    "display(Kp)"
   ]
  },
  {
   "cell_type": "code",
   "execution_count": 103,
   "metadata": {},
   "outputs": [
    {
     "data": {
      "text/latex": [
       "$\\displaystyle \\left[\\begin{matrix}- C_{1} \\cos{\\left(q_{1} \\right)} - L_{A11} U_{p} \\sin{\\left(A \\right)} - L_{A11} V_{p} \\cos{\\left(A \\right)} - U_{p} \\operatorname{K_{A1}}^{2}{\\left(q_{1},q_{2} \\right)} \\cos{\\left(A \\right)} + V_{p} \\operatorname{K_{A1}}^{2}{\\left(q_{1},q_{2} \\right)} \\sin{\\left(A \\right)} & - L_{A21} U_{p} \\sin{\\left(A \\right)} - L_{A21} V_{p} \\cos{\\left(A \\right)} - U_{p} \\operatorname{K_{A1}}{\\left(q_{1},q_{2} \\right)} \\operatorname{K_{A2}}{\\left(q_{1},q_{2} \\right)} \\cos{\\left(A \\right)} + V_{p} \\operatorname{K_{A1}}{\\left(q_{1},q_{2} \\right)} \\operatorname{K_{A2}}{\\left(q_{1},q_{2} \\right)} \\sin{\\left(A \\right)}\\\\- C_{1} \\sin{\\left(q_{1} \\right)} + L_{A11} U_{p} \\cos{\\left(A \\right)} - L_{A11} V_{p} \\sin{\\left(A \\right)} - U_{p} \\operatorname{K_{A1}}^{2}{\\left(q_{1},q_{2} \\right)} \\sin{\\left(A \\right)} - V_{p} \\operatorname{K_{A1}}^{2}{\\left(q_{1},q_{2} \\right)} \\cos{\\left(A \\right)} & L_{A21} U_{p} \\cos{\\left(A \\right)} - L_{A21} V_{p} \\sin{\\left(A \\right)} - U_{p} \\operatorname{K_{A1}}{\\left(q_{1},q_{2} \\right)} \\operatorname{K_{A2}}{\\left(q_{1},q_{2} \\right)} \\sin{\\left(A \\right)} - V_{p} \\operatorname{K_{A1}}{\\left(q_{1},q_{2} \\right)} \\operatorname{K_{A2}}{\\left(q_{1},q_{2} \\right)} \\cos{\\left(A \\right)}\\end{matrix}\\right]$"
      ],
      "text/plain": [
       "Matrix([\n",
       "[-C1*cos(q_1) - L_{A11}*U_p*sin(A) - L_{A11}*V_p*cos(A) - U_p*K_{A1}(q_1, q_2)**2*cos(A) + V_p*K_{A1}(q_1, q_2)**2*sin(A), -L_{A21}*U_p*sin(A) - L_{A21}*V_p*cos(A) - U_p*K_{A1}(q_1, q_2)*K_{A2}(q_1, q_2)*cos(A) + V_p*K_{A1}(q_1, q_2)*K_{A2}(q_1, q_2)*sin(A)],\n",
       "[-C1*sin(q_1) + L_{A11}*U_p*cos(A) - L_{A11}*V_p*sin(A) - U_p*K_{A1}(q_1, q_2)**2*sin(A) - V_p*K_{A1}(q_1, q_2)**2*cos(A),  L_{A21}*U_p*cos(A) - L_{A21}*V_p*sin(A) - U_p*K_{A1}(q_1, q_2)*K_{A2}(q_1, q_2)*sin(A) - V_p*K_{A1}(q_1, q_2)*K_{A2}(q_1, q_2)*cos(A)]])"
      ]
     },
     "metadata": {},
     "output_type": "display_data"
    },
    {
     "data": {
      "text/latex": [
       "$\\displaystyle \\left[\\begin{matrix}- L_{A12} U_{p} \\sin{\\left(A \\right)} - L_{A12} V_{p} \\cos{\\left(A \\right)} - U_{p} \\operatorname{K_{A1}}^{2}{\\left(q_{1},q_{2} \\right)} \\cos{\\left(A \\right)} + V_{p} \\operatorname{K_{A1}}^{2}{\\left(q_{1},q_{2} \\right)} \\sin{\\left(A \\right)} & - L_{A22} U_{p} \\sin{\\left(A \\right)} - L_{A22} V_{p} \\cos{\\left(A \\right)} - U_{p} \\operatorname{K_{A1}}{\\left(q_{1},q_{2} \\right)} \\operatorname{K_{A2}}{\\left(q_{1},q_{2} \\right)} \\cos{\\left(A \\right)} + V_{p} \\operatorname{K_{A1}}{\\left(q_{1},q_{2} \\right)} \\operatorname{K_{A2}}{\\left(q_{1},q_{2} \\right)} \\sin{\\left(A \\right)}\\\\L_{A12} U_{p} \\cos{\\left(A \\right)} - L_{A12} V_{p} \\sin{\\left(A \\right)} - U_{p} \\operatorname{K_{A1}}^{2}{\\left(q_{1},q_{2} \\right)} \\sin{\\left(A \\right)} - V_{p} \\operatorname{K_{A1}}^{2}{\\left(q_{1},q_{2} \\right)} \\cos{\\left(A \\right)} & L_{A22} U_{p} \\cos{\\left(A \\right)} - L_{A22} V_{p} \\sin{\\left(A \\right)} - U_{p} \\operatorname{K_{A1}}{\\left(q_{1},q_{2} \\right)} \\operatorname{K_{A2}}{\\left(q_{1},q_{2} \\right)} \\sin{\\left(A \\right)} - V_{p} \\operatorname{K_{A1}}{\\left(q_{1},q_{2} \\right)} \\operatorname{K_{A2}}{\\left(q_{1},q_{2} \\right)} \\cos{\\left(A \\right)}\\end{matrix}\\right]$"
      ],
      "text/plain": [
       "Matrix([\n",
       "[-L_{A12}*U_p*sin(A) - L_{A12}*V_p*cos(A) - U_p*K_{A1}(q_1, q_2)**2*cos(A) + V_p*K_{A1}(q_1, q_2)**2*sin(A), -L_{A22}*U_p*sin(A) - L_{A22}*V_p*cos(A) - U_p*K_{A1}(q_1, q_2)*K_{A2}(q_1, q_2)*cos(A) + V_p*K_{A1}(q_1, q_2)*K_{A2}(q_1, q_2)*sin(A)],\n",
       "[ L_{A12}*U_p*cos(A) - L_{A12}*V_p*sin(A) - U_p*K_{A1}(q_1, q_2)**2*sin(A) - V_p*K_{A1}(q_1, q_2)**2*cos(A),  L_{A22}*U_p*cos(A) - L_{A22}*V_p*sin(A) - U_p*K_{A1}(q_1, q_2)*K_{A2}(q_1, q_2)*sin(A) - V_p*K_{A1}(q_1, q_2)*K_{A2}(q_1, q_2)*cos(A)]])"
      ]
     },
     "metadata": {},
     "output_type": "display_data"
    },
    {
     "data": {
      "text/latex": [
       "$\\displaystyle \\left[\\begin{matrix}- L_{A12} U_{p} \\sin{\\left(A \\right)} - L_{A12} V_{p} \\cos{\\left(A \\right)} - U_{p} \\operatorname{K_{A1}}^{2}{\\left(q_{1},q_{2} \\right)} \\cos{\\left(A \\right)} + V_{p} \\operatorname{K_{A1}}^{2}{\\left(q_{1},q_{2} \\right)} \\sin{\\left(A \\right)} & - L_{A22} U_{p} \\sin{\\left(A \\right)} - L_{A22} V_{p} \\cos{\\left(A \\right)} - U_{p} \\operatorname{K_{A1}}{\\left(q_{1},q_{2} \\right)} \\operatorname{K_{A2}}{\\left(q_{1},q_{2} \\right)} \\cos{\\left(A \\right)} + V_{p} \\operatorname{K_{A1}}{\\left(q_{1},q_{2} \\right)} \\operatorname{K_{A2}}{\\left(q_{1},q_{2} \\right)} \\sin{\\left(A \\right)}\\\\L_{A12} U_{p} \\cos{\\left(A \\right)} - L_{A12} V_{p} \\sin{\\left(A \\right)} - U_{p} \\operatorname{K_{A1}}^{2}{\\left(q_{1},q_{2} \\right)} \\sin{\\left(A \\right)} - V_{p} \\operatorname{K_{A1}}^{2}{\\left(q_{1},q_{2} \\right)} \\cos{\\left(A \\right)} & L_{A22} U_{p} \\cos{\\left(A \\right)} - L_{A22} V_{p} \\sin{\\left(A \\right)} - U_{p} \\operatorname{K_{A1}}{\\left(q_{1},q_{2} \\right)} \\operatorname{K_{A2}}{\\left(q_{1},q_{2} \\right)} \\sin{\\left(A \\right)} - V_{p} \\operatorname{K_{A1}}{\\left(q_{1},q_{2} \\right)} \\operatorname{K_{A2}}{\\left(q_{1},q_{2} \\right)} \\cos{\\left(A \\right)}\\end{matrix}\\right]$"
      ],
      "text/plain": [
       "Matrix([\n",
       "[-L_{A12}*U_p*sin(A) - L_{A12}*V_p*cos(A) - U_p*K_{A1}(q_1, q_2)**2*cos(A) + V_p*K_{A1}(q_1, q_2)**2*sin(A), -L_{A22}*U_p*sin(A) - L_{A22}*V_p*cos(A) - U_p*K_{A1}(q_1, q_2)*K_{A2}(q_1, q_2)*cos(A) + V_p*K_{A1}(q_1, q_2)*K_{A2}(q_1, q_2)*sin(A)],\n",
       "[ L_{A12}*U_p*cos(A) - L_{A12}*V_p*sin(A) - U_p*K_{A1}(q_1, q_2)**2*sin(A) - V_p*K_{A1}(q_1, q_2)**2*cos(A),  L_{A22}*U_p*cos(A) - L_{A22}*V_p*sin(A) - U_p*K_{A1}(q_1, q_2)*K_{A2}(q_1, q_2)*sin(A) - V_p*K_{A1}(q_1, q_2)*K_{A2}(q_1, q_2)*cos(A)]])"
      ]
     },
     "execution_count": 103,
     "metadata": {},
     "output_type": "execute_result"
    }
   ],
   "source": [
    "Kpl = Kp.subs([(A, Aq), (B, Bq)])\n",
    "Lp1 = Kpl.diff(q1).subs([(Ka1.diff(q1),La11), (Ka2.diff(q1),La21)]).subs([(Aq.diff(q1),Ka1), (Bq.diff(q1),Kb1)]).subs([(Aq,A), (Bq, B)])\n",
    "Lp2 = Kpl.diff(q2).subs([(Ka1.diff(q2),La12), (Ka2.diff(q2),La22)]).subs([(Aq.diff(q2),Ka1), (Bq.diff(q2),Kb1)]).subs([(Aq,A), (Bq, B)])\n",
    "\n",
    "display(Lp1, Lp2)"
   ]
  }
 ],
 "metadata": {
  "interpreter": {
   "hash": "8003219c8c57211ee3be347d121ba14ebad7276cdae3d94be72d9e4e17f9edd5"
  },
  "kernelspec": {
   "display_name": "Python 3.8.8 64-bit ('base': conda)",
   "name": "python3"
  },
  "language_info": {
   "codemirror_mode": {
    "name": "ipython",
    "version": 3
   },
   "file_extension": ".py",
   "mimetype": "text/x-python",
   "name": "python",
   "nbconvert_exporter": "python",
   "pygments_lexer": "ipython3",
   "version": "3.8.8"
  },
  "orig_nbformat": 4
 },
 "nbformat": 4,
 "nbformat_minor": 2
}
