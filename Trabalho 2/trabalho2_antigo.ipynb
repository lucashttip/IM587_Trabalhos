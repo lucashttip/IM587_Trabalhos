{
 "cells": [
  {
   "cell_type": "code",
   "execution_count": 1,
   "metadata": {},
   "outputs": [],
   "source": [
    "from sympy import *\n",
    "from sympy.utilities.lambdify import lambdify, implemented_function\n",
    "import math\n",
    "import numpy as np\n",
    "import matplotlib.pyplot as plt"
   ]
  },
  {
   "cell_type": "code",
   "execution_count": 2,
   "metadata": {},
   "outputs": [],
   "source": [
    "## Definindo as variaveis simbolicas\n",
    "# Generalizadas e secundárias\n",
    "q1, q2, A1, A2, t1, t2  = symbols('q_1 q_2 A_1 A_2 theta_1 theta_2')  \n",
    "# Constantes do loop 1\n",
    "Csx, Csy, B1, C1, Cl3, bl1 = symbols('C_{SX} C_{SY} B_1 C_1 C_{L3} beta_L1')\n",
    "# Constantes do loop 2\n",
    "Cl4, bl13, B2, C2, Cb2, bb12, Cl1 = symbols('C_{L4} beta_L13 B_2 C_2 C_{B2} beta_B12 C_{L1}')\n",
    "# Constante para ponto de interesse\n",
    "Cb1 = symbols(\"C_{B1}\")\n",
    "\n",
    "\n",
    "q1d, q2d, q1dd, q2dd = symbols('\\dot{q_1} \\dot{q_2} \\ddot{q_1} \\ddot{q_2}')\n",
    "Ka11, Ka12, Ka21, Ka22, Kt11, Kt12, Kt21, Kt22 = symbols('K_{A11}, K_{A12}, K_{A21}, K_{A22}, K_{t11}, K_{t12}, K_{t21}, K_{t22}')\n",
    "L1a11, L1a12, L1a21, L1a22, L2a11, L2a12, L2a21, L2a22 = symbols('L_{1A11} L_{1A12} L_{1A21} L_{1A22} L_{2A11} L_{2A12} L_{2A21} L_{2A22}')\n",
    "\n",
    "# Para calculos com lambdify\n",
    "q1ds, q2ds, q1dds, q2dds = symbols('q1d q2d q1dd q2dd')\n",
    "\n",
    "# Ponto de interesse\n",
    "# Up, Vp = symbols('U_p V_p')\n",
    "\n",
    "# ## Definindo as funções simbólicas\n",
    "A1q = Function('A_1')(q1,q2)\n",
    "A2q = Function('A_2')(q1,q2)\n",
    "t1q = Function('theta_1')(q1,q2)\n",
    "t2q = Function('theta_2')(q1,q2)\n",
    "\n",
    "Ka11q = Function('K_{A11}')(q1,q2)\n",
    "Ka12q = Function('K_{A12}')(q1,q2)\n",
    "Ka21q = Function('K_{A21}')(q1,q2)\n",
    "Ka22q = Function('K_{A22}')(q1,q2)\n",
    "Kt11q = Function('K_{t11}')(q1,q2)\n",
    "Kt12q = Function('K_{t12}')(q1,q2)\n",
    "Kt21q = Function('K_{t21}')(q1,q2)\n",
    "Kt22q = Function('K_{t22}')(q1,q2)\n",
    "\n",
    "# La11, La12, La21, La22 = symbols('L_{A11} L_{A12} L_{A21} L_{A22}')"
   ]
  },
  {
   "cell_type": "code",
   "execution_count": 9,
   "metadata": {},
   "outputs": [],
   "source": [
    "# Valores das constantes\n",
    "Csxv = 215.0\n",
    "Csyv = 345.0\n",
    "C1v = 941.0\n",
    "C2v = 995.0\n",
    "B1v = 900.0\n",
    "B2v = 900.0\n",
    "Cl1v = 2866\n",
    "Cl3v = 1415.0\n",
    "Cl4v = 1858.0\n",
    "bl1v = math.radians(15.2)\n",
    "bl13v = math.radians(15.2+12.0)\n",
    "Cb2v = 432.0\n",
    "bb12v = math.radians(77.0+73.0)\n",
    "valores = [(Csx, Csxv), (Csy, Csyv), (C1, C1v), (C2, C2v), (B1, B1v), (B2, B2v), (Cl1, Cl1v), (Cl3, Cl3v), (Cl4, Cl4v), (bl1, bl1v), (bl13, bl13v), (Cb2, Cb2v), (bb12, bb12v)]\n"
   ]
  },
  {
   "cell_type": "code",
   "execution_count": 10,
   "metadata": {},
   "outputs": [
    {
     "data": {
      "text/plain": [
       "[(C_{SX}, 215.0),\n",
       " (C_{SY}, 345.0),\n",
       " (C_1, 941.0),\n",
       " (C_2, 995.0),\n",
       " (B_1, 900.0),\n",
       " (B_2, 900.0),\n",
       " (C_{L1}, 2866),\n",
       " (C_{L3}, 1415.0),\n",
       " (C_{L4}, 1858.0),\n",
       " (beta_L1, 0.26529004630313807),\n",
       " (beta_L13, 0.47472955654245763),\n",
       " (C_{B2}, 432.0),\n",
       " (beta_B12, 2.6179938779914944)]"
      ]
     },
     "execution_count": 10,
     "metadata": {},
     "output_type": "execute_result"
    }
   ],
   "source": [
    "valores"
   ]
  },
  {
   "cell_type": "code",
   "execution_count": 11,
   "metadata": {},
   "outputs": [
    {
     "data": {
      "text/latex": [
       "$\\displaystyle \\left[\\begin{matrix}- C_{L3} \\cos{\\left(A_{1} + \\beta_{L1} \\right)} + C_{SX} + \\left(B_{1} + C_{1} - q_{1}\\right) \\cos{\\left(\\theta_{1} \\right)}\\\\- C_{L3} \\sin{\\left(A_{1} + \\beta_{L1} \\right)} - C_{SY} + \\left(B_{1} + C_{1} - q_{1}\\right) \\sin{\\left(\\theta_{1} \\right)}\\\\C_{B2} \\cos{\\left(A_{2} - \\beta_{B12} \\right)} - C_{L1} \\cos{\\left(A_{1} \\right)} + C_{L4} \\cos{\\left(A_{1} + \\beta_{L13} \\right)} + \\left(B_{2} + C_{2} - q_{2}\\right) \\cos{\\left(\\theta_{2} \\right)}\\\\C_{B2} \\sin{\\left(A_{2} - \\beta_{B12} \\right)} - C_{L1} \\sin{\\left(A_{1} \\right)} + C_{L4} \\sin{\\left(A_{1} + \\beta_{L13} \\right)} + \\left(B_{2} + C_{2} - q_{2}\\right) \\sin{\\left(\\theta_{2} \\right)}\\end{matrix}\\right]$"
      ],
      "text/plain": [
       "Matrix([\n",
       "[                                      -C_{L3}*cos(A_1 + beta_L1) + C_{SX} + (B_1 + C_1 - q_1)*cos(theta_1)],\n",
       "[                                      -C_{L3}*sin(A_1 + beta_L1) - C_{SY} + (B_1 + C_1 - q_1)*sin(theta_1)],\n",
       "[C_{B2}*cos(A_2 - beta_B12) - C_{L1}*cos(A_1) + C_{L4}*cos(A_1 + beta_L13) + (B_2 + C_2 - q_2)*cos(theta_2)],\n",
       "[C_{B2}*sin(A_2 - beta_B12) - C_{L1}*sin(A_1) + C_{L4}*sin(A_1 + beta_L13) + (B_2 + C_2 - q_2)*sin(theta_2)]])"
      ]
     },
     "metadata": {},
     "output_type": "display_data"
    },
    {
     "data": {
      "text/latex": [
       "$\\displaystyle \\left[\\begin{matrix}A_{1}\\\\A_{2}\\\\\\theta_{1}\\\\\\theta_{2}\\end{matrix}\\right]$"
      ],
      "text/plain": [
       "Matrix([\n",
       "[    A_1],\n",
       "[    A_2],\n",
       "[theta_1],\n",
       "[theta_2]])"
      ]
     },
     "metadata": {},
     "output_type": "display_data"
    },
    {
     "data": {
      "text/latex": [
       "$\\displaystyle \\left[\\begin{matrix}q_{1}\\\\q_{2}\\end{matrix}\\right]$"
      ],
      "text/plain": [
       "Matrix([\n",
       "[q_1],\n",
       "[q_2]])"
      ]
     },
     "metadata": {},
     "output_type": "display_data"
    },
    {
     "data": {
      "text/latex": [
       "$\\displaystyle \\left[\\begin{matrix}\\dot{q_1}\\\\\\dot{q_2}\\end{matrix}\\right]$"
      ],
      "text/plain": [
       "Matrix([\n",
       "[\\dot{q_1}],\n",
       "[\\dot{q_2}]])"
      ]
     },
     "metadata": {},
     "output_type": "display_data"
    },
    {
     "data": {
      "text/latex": [
       "$\\displaystyle \\left[\\begin{matrix}\\ddot{q_1}\\\\\\ddot{q_2}\\end{matrix}\\right]$"
      ],
      "text/plain": [
       "Matrix([\n",
       "[\\ddot{q_1}],\n",
       "[\\ddot{q_2}]])"
      ]
     },
     "metadata": {},
     "output_type": "display_data"
    }
   ],
   "source": [
    "## Definindo as funções de loop e os vetores das variáveis:\n",
    "\n",
    "f1 = Csx + (B1 + C1 - q1)*cos(t1) - Cl3*cos(A1+bl1)\n",
    "f2 = (B1 + C1 - q1)*sin(t1) - Cl3*sin(A1+bl1) - Csy\n",
    "f3 = Cl4*cos(A1+bl13) + (B2+C2-q2)*cos(t2) - Cb2*cos(A2 - bb12 - pi) - Cl1*cos(A1)\n",
    "f4 = Cl4*sin(A1+bl13) + (B2+C2-q2)*sin(t2) - Cb2*sin(A2 - bb12 - pi) - Cl1*sin(A1)\n",
    "\n",
    "F = Matrix([f1, f2, f3, f4])\n",
    "S = Matrix([A1, A2, t1, t2])\n",
    "q = Matrix([q1, q2])\n",
    "qd = Matrix([q1d, q2d])\n",
    "qdd = Matrix([q1dd, q2dd])\n",
    "\n",
    "display(F, S, q, qd, qdd)\n"
   ]
  },
  {
   "cell_type": "code",
   "execution_count": 12,
   "metadata": {},
   "outputs": [
    {
     "data": {
      "text/latex": [
       "$\\displaystyle \\left[\\begin{matrix}\\left(1841.0 - q_{1}\\right) \\cos{\\left(\\theta_{1} \\right)} - 1415.0 \\cos{\\left(A_{1} + 0.265290046303138 \\right)} + 215.0\\\\\\left(1841.0 - q_{1}\\right) \\sin{\\left(\\theta_{1} \\right)} - 1415.0 \\sin{\\left(A_{1} + 0.265290046303138 \\right)} - 345.0\\\\\\left(1895.0 - q_{2}\\right) \\cos{\\left(\\theta_{2} \\right)} - 2866 \\cos{\\left(A_{1} \\right)} + 1858.0 \\cos{\\left(A_{1} + 0.474729556542458 \\right)} + 432.0 \\cos{\\left(A_{2} - 2.61799387799149 \\right)}\\\\\\left(1895.0 - q_{2}\\right) \\sin{\\left(\\theta_{2} \\right)} - 2866 \\sin{\\left(A_{1} \\right)} + 1858.0 \\sin{\\left(A_{1} + 0.474729556542458 \\right)} + 432.0 \\sin{\\left(A_{2} - 2.61799387799149 \\right)}\\end{matrix}\\right]$"
      ],
      "text/plain": [
       "Matrix([\n",
       "[                                            (1841.0 - q_1)*cos(theta_1) - 1415.0*cos(A_1 + 0.265290046303138) + 215.0],\n",
       "[                                            (1841.0 - q_1)*sin(theta_1) - 1415.0*sin(A_1 + 0.265290046303138) - 345.0],\n",
       "[(1895.0 - q_2)*cos(theta_2) - 2866*cos(A_1) + 1858.0*cos(A_1 + 0.474729556542458) + 432.0*cos(A_2 - 2.61799387799149)],\n",
       "[(1895.0 - q_2)*sin(theta_2) - 2866*sin(A_1) + 1858.0*sin(A_1 + 0.474729556542458) + 432.0*sin(A_2 - 2.61799387799149)]])"
      ]
     },
     "execution_count": 12,
     "metadata": {},
     "output_type": "execute_result"
    }
   ],
   "source": [
    "F.subs(valores)"
   ]
  },
  {
   "cell_type": "markdown",
   "metadata": {},
   "source": [
    "## Análise da velocidade\n",
    "\n",
    "$\\{\\dot{S}\\} = [J]^{-1}[b]\\{\\dot{q}\\}$\n",
    "\n",
    "$\\{\\dot{S}\\} = [K]\\{\\dot{q}\\}$"
   ]
  },
  {
   "cell_type": "code",
   "execution_count": 5,
   "metadata": {},
   "outputs": [
    {
     "data": {
      "text/latex": [
       "$\\displaystyle \\left[\\begin{matrix}C_{L3} \\sin{\\left(A_{1} + \\beta_{L1} \\right)} & 0 & - \\left(B_{1} + C_{1} - q_{1}\\right) \\sin{\\left(\\theta_{1} \\right)} & 0\\\\- C_{L3} \\cos{\\left(A_{1} + \\beta_{L1} \\right)} & 0 & \\left(B_{1} + C_{1} - q_{1}\\right) \\cos{\\left(\\theta_{1} \\right)} & 0\\\\C_{L1} \\sin{\\left(A_{1} \\right)} - C_{L4} \\sin{\\left(A_{1} + \\beta_{L13} \\right)} & - C_{B2} \\sin{\\left(A_{2} - \\beta_{B12} \\right)} & 0 & - \\left(B_{2} + C_{2} - q_{2}\\right) \\sin{\\left(\\theta_{2} \\right)}\\\\- C_{L1} \\cos{\\left(A_{1} \\right)} + C_{L4} \\cos{\\left(A_{1} + \\beta_{L13} \\right)} & C_{B2} \\cos{\\left(A_{2} - \\beta_{B12} \\right)} & 0 & \\left(B_{2} + C_{2} - q_{2}\\right) \\cos{\\left(\\theta_{2} \\right)}\\end{matrix}\\right]$"
      ],
      "text/plain": [
       "Matrix([\n",
       "[                    C_{L3}*sin(A_1 + beta_L1),                           0, -(B_1 + C_1 - q_1)*sin(theta_1),                               0],\n",
       "[                   -C_{L3}*cos(A_1 + beta_L1),                           0,  (B_1 + C_1 - q_1)*cos(theta_1),                               0],\n",
       "[ C_{L1}*sin(A_1) - C_{L4}*sin(A_1 + beta_L13), -C_{B2}*sin(A_2 - beta_B12),                               0, -(B_2 + C_2 - q_2)*sin(theta_2)],\n",
       "[-C_{L1}*cos(A_1) + C_{L4}*cos(A_1 + beta_L13),  C_{B2}*cos(A_2 - beta_B12),                               0,  (B_2 + C_2 - q_2)*cos(theta_2)]])"
      ]
     },
     "metadata": {},
     "output_type": "display_data"
    },
    {
     "data": {
      "text/latex": [
       "$\\displaystyle \\left[\\begin{matrix}\\cos{\\left(\\theta_{1} \\right)} & 0\\\\\\sin{\\left(\\theta_{1} \\right)} & 0\\\\0 & \\cos{\\left(\\theta_{2} \\right)}\\\\0 & \\sin{\\left(\\theta_{2} \\right)}\\end{matrix}\\right]$"
      ],
      "text/plain": [
       "Matrix([\n",
       "[cos(theta_1),            0],\n",
       "[sin(theta_1),            0],\n",
       "[           0, cos(theta_2)],\n",
       "[           0, sin(theta_2)]])"
      ]
     },
     "metadata": {},
     "output_type": "display_data"
    }
   ],
   "source": [
    "# Análise de velocidade:\n",
    "J = F.jacobian(S)\n",
    "b = - F.jacobian(q)\n",
    "# K = simplify(J.inv()*b)\n",
    "\n",
    "# display(J, b, K)\n",
    "display(J,b)"
   ]
  },
  {
   "cell_type": "code",
   "execution_count": null,
   "metadata": {},
   "outputs": [],
   "source": [
    "print(latex(b))"
   ]
  },
  {
   "cell_type": "code",
   "execution_count": null,
   "metadata": {},
   "outputs": [],
   "source": [
    "# Código mais rápido na célula abaixo\n",
    "# K = simplify(J.inv()*b)\n",
    "\n",
    "# display(K)"
   ]
  },
  {
   "cell_type": "code",
   "execution_count": 6,
   "metadata": {},
   "outputs": [
    {
     "data": {
      "text/latex": [
       "$\\displaystyle \\left[\\begin{matrix}\\frac{1}{C_{L3} \\sin{\\left(A_{1} + \\beta_{L1} - \\theta_{1} \\right)}} & 0\\\\\\frac{- C_{L1} \\sin{\\left(A_{1} - \\theta_{2} \\right)} + C_{L4} \\sin{\\left(A_{1} + \\beta_{L13} - \\theta_{2} \\right)}}{C_{B2} C_{L3} \\sin{\\left(A_{1} + \\beta_{L1} - \\theta_{1} \\right)} \\sin{\\left(- A_{2} + \\beta_{B12} + \\theta_{2} \\right)}} & \\frac{1}{C_{B2} \\sin{\\left(- A_{2} + \\beta_{B12} + \\theta_{2} \\right)}}\\\\\\frac{1}{\\left(B_{1} + C_{1} - q_{1}\\right) \\tan{\\left(A_{1} + \\beta_{L1} - \\theta_{1} \\right)}} & 0\\\\\\frac{2 \\left(C_{L1} \\sin{\\left(A_{1} - A_{2} + \\beta_{B12} \\right)} - C_{L4} \\sin{\\left(A_{1} - A_{2} + \\beta_{B12} + \\beta_{L13} \\right)}\\right)}{C_{L3} \\left(- \\cos{\\left(A_{1} - A_{2} + \\beta_{B12} + \\beta_{L1} - \\theta_{1} + \\theta_{2} \\right)} + \\cos{\\left(A_{1} + A_{2} - \\beta_{B12} + \\beta_{L1} - \\theta_{1} - \\theta_{2} \\right)}\\right) \\left(B_{2} + C_{2} - q_{2}\\right)} & - \\frac{1}{\\left(B_{2} + C_{2} - q_{2}\\right) \\tan{\\left(- A_{2} + \\beta_{B12} + \\theta_{2} \\right)}}\\end{matrix}\\right]$"
      ],
      "text/plain": [
       "Matrix([\n",
       "[                                                                                                                                                                                           1/(C_{L3}*sin(A_1 + beta_L1 - theta_1)),                                                     0],\n",
       "[                                                                                   (-C_{L1}*sin(A_1 - theta_2) + C_{L4}*sin(A_1 + beta_L13 - theta_2))/(C_{B2}*C_{L3}*sin(A_1 + beta_L1 - theta_1)*sin(-A_2 + beta_B12 + theta_2)),             1/(C_{B2}*sin(-A_2 + beta_B12 + theta_2))],\n",
       "[                                                                                                                                                                                1/((B_1 + C_1 - q_1)*tan(A_1 + beta_L1 - theta_1)),                                                     0],\n",
       "[2*(C_{L1}*sin(A_1 - A_2 + beta_B12) - C_{L4}*sin(A_1 - A_2 + beta_B12 + beta_L13))/(C_{L3}*(-cos(A_1 - A_2 + beta_B12 + beta_L1 - theta_1 + theta_2) + cos(A_1 + A_2 - beta_B12 + beta_L1 - theta_1 - theta_2))*(B_2 + C_2 - q_2)), -1/((B_2 + C_2 - q_2)*tan(-A_2 + beta_B12 + theta_2))]])"
      ]
     },
     "execution_count": 6,
     "metadata": {},
     "output_type": "execute_result"
    }
   ],
   "source": [
    "k1 = simplify(J[[0,1],[0,2]].inv()*b[:2,0])\n",
    "b2 = (-J[[2,3],0]).row_join(b[[2,3],1])\n",
    "k21 = simplify(J[[2,3],[1,3]].inv()*(-J[[2,3],0])*k1[0])\n",
    "k22 = simplify(J[[2,3],[1,3]].inv()*b[[2,3],1])\n",
    "K = Matrix([[k1[0],0],[k21[0],k22[0]], [k1[1],0],[k21[1],k22[1]]])\n",
    "K"
   ]
  },
  {
   "cell_type": "markdown",
   "metadata": {},
   "source": [
    "## Análise da aceleração\n",
    "\n",
    "$\\{\\ddot{S}\\} = [K]\\{\\ddot{q}\\} + ([L_1]\\dot{q_1} + [L_2]\\dot{q_2})\\{\\dot{q}\\}$\n",
    "\n",
    "$[L_1] = \\frac{\\partial [K]}{\\partial q_1}$\n",
    "\n",
    "$[L_2] = \\frac{\\partial [K]}{\\partial q_2}$"
   ]
  },
  {
   "cell_type": "code",
   "execution_count": 13,
   "metadata": {},
   "outputs": [
    {
     "data": {
      "text/latex": [
       "$\\displaystyle \\left[\\begin{matrix}\\frac{1}{C_{L3} \\sin{\\left(\\beta_{L1} + \\operatorname{A_{1}}{\\left(q_{1},q_{2} \\right)} - \\theta_{1}{\\left(q_{1},q_{2} \\right)} \\right)}} & 0\\\\\\frac{- C_{L1} \\sin{\\left(\\operatorname{A_{1}}{\\left(q_{1},q_{2} \\right)} - \\theta_{2}{\\left(q_{1},q_{2} \\right)} \\right)} + C_{L4} \\sin{\\left(\\beta_{L13} + \\operatorname{A_{1}}{\\left(q_{1},q_{2} \\right)} - \\theta_{2}{\\left(q_{1},q_{2} \\right)} \\right)}}{C_{B2} C_{L3} \\sin{\\left(\\beta_{B12} - \\operatorname{A_{2}}{\\left(q_{1},q_{2} \\right)} + \\theta_{2}{\\left(q_{1},q_{2} \\right)} \\right)} \\sin{\\left(\\beta_{L1} + \\operatorname{A_{1}}{\\left(q_{1},q_{2} \\right)} - \\theta_{1}{\\left(q_{1},q_{2} \\right)} \\right)}} & \\frac{1}{C_{B2} \\sin{\\left(\\beta_{B12} - \\operatorname{A_{2}}{\\left(q_{1},q_{2} \\right)} + \\theta_{2}{\\left(q_{1},q_{2} \\right)} \\right)}}\\\\\\frac{1}{\\left(B_{1} + C_{1} - q_{1}\\right) \\tan{\\left(\\beta_{L1} + \\operatorname{A_{1}}{\\left(q_{1},q_{2} \\right)} - \\theta_{1}{\\left(q_{1},q_{2} \\right)} \\right)}} & 0\\\\\\frac{2 \\left(C_{L1} \\sin{\\left(\\beta_{B12} + \\operatorname{A_{1}}{\\left(q_{1},q_{2} \\right)} - \\operatorname{A_{2}}{\\left(q_{1},q_{2} \\right)} \\right)} - C_{L4} \\sin{\\left(\\beta_{B12} + \\beta_{L13} + \\operatorname{A_{1}}{\\left(q_{1},q_{2} \\right)} - \\operatorname{A_{2}}{\\left(q_{1},q_{2} \\right)} \\right)}\\right)}{C_{L3} \\left(\\cos{\\left(\\beta_{B12} - \\beta_{L1} - \\operatorname{A_{1}}{\\left(q_{1},q_{2} \\right)} - \\operatorname{A_{2}}{\\left(q_{1},q_{2} \\right)} + \\theta_{1}{\\left(q_{1},q_{2} \\right)} + \\theta_{2}{\\left(q_{1},q_{2} \\right)} \\right)} - \\cos{\\left(\\beta_{B12} + \\beta_{L1} + \\operatorname{A_{1}}{\\left(q_{1},q_{2} \\right)} - \\operatorname{A_{2}}{\\left(q_{1},q_{2} \\right)} - \\theta_{1}{\\left(q_{1},q_{2} \\right)} + \\theta_{2}{\\left(q_{1},q_{2} \\right)} \\right)}\\right) \\left(B_{2} + C_{2} - q_{2}\\right)} & - \\frac{1}{\\left(B_{2} + C_{2} - q_{2}\\right) \\tan{\\left(\\beta_{B12} - \\operatorname{A_{2}}{\\left(q_{1},q_{2} \\right)} + \\theta_{2}{\\left(q_{1},q_{2} \\right)} \\right)}}\\end{matrix}\\right]$"
      ],
      "text/plain": [
       "Matrix([\n",
       "[                                                                                                                                                                                                                                                                                              1/(C_{L3}*sin(beta_L1 + A_1(q_1, q_2) - theta_1(q_1, q_2))),                                                                        0],\n",
       "[                                                                                                                           (-C_{L1}*sin(A_1(q_1, q_2) - theta_2(q_1, q_2)) + C_{L4}*sin(beta_L13 + A_1(q_1, q_2) - theta_2(q_1, q_2)))/(C_{B2}*C_{L3}*sin(beta_B12 - A_2(q_1, q_2) + theta_2(q_1, q_2))*sin(beta_L1 + A_1(q_1, q_2) - theta_1(q_1, q_2))),             1/(C_{B2}*sin(beta_B12 - A_2(q_1, q_2) + theta_2(q_1, q_2)))],\n",
       "[                                                                                                                                                                                                                                                                                   1/((B_1 + C_1 - q_1)*tan(beta_L1 + A_1(q_1, q_2) - theta_1(q_1, q_2))),                                                                        0],\n",
       "[2*(C_{L1}*sin(beta_B12 + A_1(q_1, q_2) - A_2(q_1, q_2)) - C_{L4}*sin(beta_B12 + beta_L13 + A_1(q_1, q_2) - A_2(q_1, q_2)))/(C_{L3}*(cos(beta_B12 - beta_L1 - A_1(q_1, q_2) - A_2(q_1, q_2) + theta_1(q_1, q_2) + theta_2(q_1, q_2)) - cos(beta_B12 + beta_L1 + A_1(q_1, q_2) - A_2(q_1, q_2) - theta_1(q_1, q_2) + theta_2(q_1, q_2)))*(B_2 + C_2 - q_2)), -1/((B_2 + C_2 - q_2)*tan(beta_B12 - A_2(q_1, q_2) + theta_2(q_1, q_2)))]])"
      ]
     },
     "metadata": {},
     "output_type": "display_data"
    }
   ],
   "source": [
    "# Análise de aceleração\n",
    "Kl = K.subs([(A1, A1q), (A2, A2q), (t1, t1q), (t2, t2q)])\n",
    "display(Kl)"
   ]
  },
  {
   "cell_type": "code",
   "execution_count": 14,
   "metadata": {},
   "outputs": [
    {
     "data": {
      "text/latex": [
       "$\\displaystyle \\left[\\begin{matrix}- \\frac{\\left(K_{A11} - K_{t11}\\right) \\cos{\\left(A_{1} + \\beta_{L1} - \\theta_{1} \\right)}}{C_{L3} \\sin^{2}{\\left(A_{1} + \\beta_{L1} - \\theta_{1} \\right)}} & 0\\\\- \\frac{\\left(K_{A11} - K_{t11}\\right) \\left(- C_{L1} \\sin{\\left(A_{1} - \\theta_{2} \\right)} + C_{L4} \\sin{\\left(A_{1} + \\beta_{L13} - \\theta_{2} \\right)}\\right) \\cos{\\left(A_{1} + \\beta_{L1} - \\theta_{1} \\right)}}{C_{B2} C_{L3} \\sin^{2}{\\left(A_{1} + \\beta_{L1} - \\theta_{1} \\right)} \\sin{\\left(- A_{2} + \\beta_{B12} + \\theta_{2} \\right)}} - \\frac{\\left(- K_{A21} + K_{t21}\\right) \\left(- C_{L1} \\sin{\\left(A_{1} - \\theta_{2} \\right)} + C_{L4} \\sin{\\left(A_{1} + \\beta_{L13} - \\theta_{2} \\right)}\\right) \\cos{\\left(- A_{2} + \\beta_{B12} + \\theta_{2} \\right)}}{C_{B2} C_{L3} \\sin{\\left(A_{1} + \\beta_{L1} - \\theta_{1} \\right)} \\sin^{2}{\\left(- A_{2} + \\beta_{B12} + \\theta_{2} \\right)}} + \\frac{- C_{L1} \\left(K_{A11} - K_{t21}\\right) \\cos{\\left(A_{1} - \\theta_{2} \\right)} + C_{L4} \\left(K_{A11} - K_{t21}\\right) \\cos{\\left(A_{1} + \\beta_{L13} - \\theta_{2} \\right)}}{C_{B2} C_{L3} \\sin{\\left(A_{1} + \\beta_{L1} - \\theta_{1} \\right)} \\sin{\\left(- A_{2} + \\beta_{B12} + \\theta_{2} \\right)}} & - \\frac{\\left(- K_{A21} + K_{t21}\\right) \\cos{\\left(- A_{2} + \\beta_{B12} + \\theta_{2} \\right)}}{C_{B2} \\sin^{2}{\\left(- A_{2} + \\beta_{B12} + \\theta_{2} \\right)}}\\\\- \\frac{\\left(K_{A11} - K_{t11}\\right) \\left(\\tan^{2}{\\left(A_{1} + \\beta_{L1} - \\theta_{1} \\right)} + 1\\right)}{\\left(B_{1} + C_{1} - q_{1}\\right) \\tan^{2}{\\left(A_{1} + \\beta_{L1} - \\theta_{1} \\right)}} + \\frac{1}{\\left(B_{1} + C_{1} - q_{1}\\right)^{2} \\tan{\\left(A_{1} + \\beta_{L1} - \\theta_{1} \\right)}} & 0\\\\\\frac{2 \\left(C_{L1} \\sin{\\left(A_{1} - A_{2} + \\beta_{B12} \\right)} - C_{L4} \\sin{\\left(A_{1} - A_{2} + \\beta_{B12} + \\beta_{L13} \\right)}\\right) \\left(- \\left(- K_{A11} - K_{A21} + K_{t11} + K_{t21}\\right) \\sin{\\left(A_{1} + A_{2} - \\beta_{B12} + \\beta_{L1} - \\theta_{1} - \\theta_{2} \\right)} - \\left(K_{A11} - K_{A21} - K_{t11} + K_{t21}\\right) \\sin{\\left(A_{1} - A_{2} + \\beta_{B12} + \\beta_{L1} - \\theta_{1} + \\theta_{2} \\right)}\\right)}{C_{L3} \\left(- \\cos{\\left(A_{1} - A_{2} + \\beta_{B12} + \\beta_{L1} - \\theta_{1} + \\theta_{2} \\right)} + \\cos{\\left(A_{1} + A_{2} - \\beta_{B12} + \\beta_{L1} - \\theta_{1} - \\theta_{2} \\right)}\\right)^{2} \\left(B_{2} + C_{2} - q_{2}\\right)} + \\frac{2 \\left(C_{L1} \\left(K_{A11} - K_{A21}\\right) \\cos{\\left(A_{1} - A_{2} + \\beta_{B12} \\right)} - C_{L4} \\left(K_{A11} - K_{A21}\\right) \\cos{\\left(A_{1} - A_{2} + \\beta_{B12} + \\beta_{L13} \\right)}\\right)}{C_{L3} \\left(- \\cos{\\left(A_{1} - A_{2} + \\beta_{B12} + \\beta_{L1} - \\theta_{1} + \\theta_{2} \\right)} + \\cos{\\left(A_{1} + A_{2} - \\beta_{B12} + \\beta_{L1} - \\theta_{1} - \\theta_{2} \\right)}\\right) \\left(B_{2} + C_{2} - q_{2}\\right)} & \\frac{\\left(- K_{A21} + K_{t21}\\right) \\left(\\tan^{2}{\\left(- A_{2} + \\beta_{B12} + \\theta_{2} \\right)} + 1\\right)}{\\left(B_{2} + C_{2} - q_{2}\\right) \\tan^{2}{\\left(- A_{2} + \\beta_{B12} + \\theta_{2} \\right)}}\\end{matrix}\\right]$"
      ],
      "text/plain": [
       "Matrix([\n",
       "[                                                                                                                                                                                                                                                                                                                                                                                                                                                                                                                                                                                                                              -(K_{A11} - K_{t11})*cos(A_1 + beta_L1 - theta_1)/(C_{L3}*sin(A_1 + beta_L1 - theta_1)**2),                                                                                                                  0],\n",
       "[                                                                                                                 -(K_{A11} - K_{t11})*(-C_{L1}*sin(A_1 - theta_2) + C_{L4}*sin(A_1 + beta_L13 - theta_2))*cos(A_1 + beta_L1 - theta_1)/(C_{B2}*C_{L3}*sin(A_1 + beta_L1 - theta_1)**2*sin(-A_2 + beta_B12 + theta_2)) - (-K_{A21} + K_{t21})*(-C_{L1}*sin(A_1 - theta_2) + C_{L4}*sin(A_1 + beta_L13 - theta_2))*cos(-A_2 + beta_B12 + theta_2)/(C_{B2}*C_{L3}*sin(A_1 + beta_L1 - theta_1)*sin(-A_2 + beta_B12 + theta_2)**2) + (-C_{L1}*(K_{A11} - K_{t21})*cos(A_1 - theta_2) + C_{L4}*(K_{A11} - K_{t21})*cos(A_1 + beta_L13 - theta_2))/(C_{B2}*C_{L3}*sin(A_1 + beta_L1 - theta_1)*sin(-A_2 + beta_B12 + theta_2)),                    -(-K_{A21} + K_{t21})*cos(-A_2 + beta_B12 + theta_2)/(C_{B2}*sin(-A_2 + beta_B12 + theta_2)**2)],\n",
       "[                                                                                                                                                                                                                                                                                                                                                                                                                                                                                                                                                  -(K_{A11} - K_{t11})*(tan(A_1 + beta_L1 - theta_1)**2 + 1)/((B_1 + C_1 - q_1)*tan(A_1 + beta_L1 - theta_1)**2) + 1/((B_1 + C_1 - q_1)**2*tan(A_1 + beta_L1 - theta_1)),                                                                                                                  0],\n",
       "[2*(C_{L1}*sin(A_1 - A_2 + beta_B12) - C_{L4}*sin(A_1 - A_2 + beta_B12 + beta_L13))*(-(-K_{A11} - K_{A21} + K_{t11} + K_{t21})*sin(A_1 + A_2 - beta_B12 + beta_L1 - theta_1 - theta_2) - (K_{A11} - K_{A21} - K_{t11} + K_{t21})*sin(A_1 - A_2 + beta_B12 + beta_L1 - theta_1 + theta_2))/(C_{L3}*(-cos(A_1 - A_2 + beta_B12 + beta_L1 - theta_1 + theta_2) + cos(A_1 + A_2 - beta_B12 + beta_L1 - theta_1 - theta_2))**2*(B_2 + C_2 - q_2)) + 2*(C_{L1}*(K_{A11} - K_{A21})*cos(A_1 - A_2 + beta_B12) - C_{L4}*(K_{A11} - K_{A21})*cos(A_1 - A_2 + beta_B12 + beta_L13))/(C_{L3}*(-cos(A_1 - A_2 + beta_B12 + beta_L1 - theta_1 + theta_2) + cos(A_1 + A_2 - beta_B12 + beta_L1 - theta_1 - theta_2))*(B_2 + C_2 - q_2)), (-K_{A21} + K_{t21})*(tan(-A_2 + beta_B12 + theta_2)**2 + 1)/((B_2 + C_2 - q_2)*tan(-A_2 + beta_B12 + theta_2)**2)]])"
      ]
     },
     "metadata": {},
     "output_type": "display_data"
    },
    {
     "data": {
      "text/latex": [
       "$\\displaystyle \\left[\\begin{matrix}0 & 0\\\\- \\frac{\\left(- K_{A22} + K_{t22}\\right) \\left(- C_{L1} \\sin{\\left(A_{1} - \\theta_{2} \\right)} + C_{L4} \\sin{\\left(A_{1} + \\beta_{L13} - \\theta_{2} \\right)}\\right) \\cos{\\left(- A_{2} + \\beta_{B12} + \\theta_{2} \\right)}}{C_{B2} C_{L3} \\sin{\\left(A_{1} + \\beta_{L1} - \\theta_{1} \\right)} \\sin^{2}{\\left(- A_{2} + \\beta_{B12} + \\theta_{2} \\right)}} + \\frac{C_{L1} K_{t22} \\cos{\\left(A_{1} - \\theta_{2} \\right)} - C_{L4} K_{t22} \\cos{\\left(A_{1} + \\beta_{L13} - \\theta_{2} \\right)}}{C_{B2} C_{L3} \\sin{\\left(A_{1} + \\beta_{L1} - \\theta_{1} \\right)} \\sin{\\left(- A_{2} + \\beta_{B12} + \\theta_{2} \\right)}} & - \\frac{\\left(- K_{A22} + K_{t22}\\right) \\cos{\\left(- A_{2} + \\beta_{B12} + \\theta_{2} \\right)}}{C_{B2} \\sin^{2}{\\left(- A_{2} + \\beta_{B12} + \\theta_{2} \\right)}}\\\\0 & 0\\\\\\frac{2 \\left(C_{L1} \\sin{\\left(A_{1} - A_{2} + \\beta_{B12} \\right)} - C_{L4} \\sin{\\left(A_{1} - A_{2} + \\beta_{B12} + \\beta_{L13} \\right)}\\right) \\left(- \\left(- K_{A22} + K_{t22}\\right) \\sin{\\left(A_{1} - A_{2} + \\beta_{B12} + \\beta_{L1} - \\theta_{1} + \\theta_{2} \\right)} - \\left(- K_{A22} + K_{t22}\\right) \\sin{\\left(A_{1} + A_{2} - \\beta_{B12} + \\beta_{L1} - \\theta_{1} - \\theta_{2} \\right)}\\right)}{C_{L3} \\left(- \\cos{\\left(A_{1} - A_{2} + \\beta_{B12} + \\beta_{L1} - \\theta_{1} + \\theta_{2} \\right)} + \\cos{\\left(A_{1} + A_{2} - \\beta_{B12} + \\beta_{L1} - \\theta_{1} - \\theta_{2} \\right)}\\right)^{2} \\left(B_{2} + C_{2} - q_{2}\\right)} + \\frac{2 \\left(C_{L1} \\sin{\\left(A_{1} - A_{2} + \\beta_{B12} \\right)} - C_{L4} \\sin{\\left(A_{1} - A_{2} + \\beta_{B12} + \\beta_{L13} \\right)}\\right)}{C_{L3} \\left(- \\cos{\\left(A_{1} - A_{2} + \\beta_{B12} + \\beta_{L1} - \\theta_{1} + \\theta_{2} \\right)} + \\cos{\\left(A_{1} + A_{2} - \\beta_{B12} + \\beta_{L1} - \\theta_{1} - \\theta_{2} \\right)}\\right) \\left(B_{2} + C_{2} - q_{2}\\right)^{2}} + \\frac{2 \\left(- C_{L1} K_{A22} \\cos{\\left(A_{1} - A_{2} + \\beta_{B12} \\right)} + C_{L4} K_{A22} \\cos{\\left(A_{1} - A_{2} + \\beta_{B12} + \\beta_{L13} \\right)}\\right)}{C_{L3} \\left(- \\cos{\\left(A_{1} - A_{2} + \\beta_{B12} + \\beta_{L1} - \\theta_{1} + \\theta_{2} \\right)} + \\cos{\\left(A_{1} + A_{2} - \\beta_{B12} + \\beta_{L1} - \\theta_{1} - \\theta_{2} \\right)}\\right) \\left(B_{2} + C_{2} - q_{2}\\right)} & \\frac{\\left(- K_{A22} + K_{t22}\\right) \\left(\\tan^{2}{\\left(- A_{2} + \\beta_{B12} + \\theta_{2} \\right)} + 1\\right)}{\\left(B_{2} + C_{2} - q_{2}\\right) \\tan^{2}{\\left(- A_{2} + \\beta_{B12} + \\theta_{2} \\right)}} - \\frac{1}{\\left(B_{2} + C_{2} - q_{2}\\right)^{2} \\tan{\\left(- A_{2} + \\beta_{B12} + \\theta_{2} \\right)}}\\end{matrix}\\right]$"
      ],
      "text/plain": [
       "Matrix([\n",
       "[                                                                                                                                                                                                                                                                                                                                                                                                                                                                                                                                                                                                                                                                                                                                                                                                                                                                                                 0,                                                                                                                                                                            0],\n",
       "[                                                                                                                                                                                                                                                                                                                                                                                                                                                                                                                          -(-K_{A22} + K_{t22})*(-C_{L1}*sin(A_1 - theta_2) + C_{L4}*sin(A_1 + beta_L13 - theta_2))*cos(-A_2 + beta_B12 + theta_2)/(C_{B2}*C_{L3}*sin(A_1 + beta_L1 - theta_1)*sin(-A_2 + beta_B12 + theta_2)**2) + (C_{L1}*K_{t22}*cos(A_1 - theta_2) - C_{L4}*K_{t22}*cos(A_1 + beta_L13 - theta_2))/(C_{B2}*C_{L3}*sin(A_1 + beta_L1 - theta_1)*sin(-A_2 + beta_B12 + theta_2)),                                                                              -(-K_{A22} + K_{t22})*cos(-A_2 + beta_B12 + theta_2)/(C_{B2}*sin(-A_2 + beta_B12 + theta_2)**2)],\n",
       "[                                                                                                                                                                                                                                                                                                                                                                                                                                                                                                                                                                                                                                                                                                                                                                                                                                                                                                 0,                                                                                                                                                                            0],\n",
       "[2*(C_{L1}*sin(A_1 - A_2 + beta_B12) - C_{L4}*sin(A_1 - A_2 + beta_B12 + beta_L13))*(-(-K_{A22} + K_{t22})*sin(A_1 - A_2 + beta_B12 + beta_L1 - theta_1 + theta_2) - (-K_{A22} + K_{t22})*sin(A_1 + A_2 - beta_B12 + beta_L1 - theta_1 - theta_2))/(C_{L3}*(-cos(A_1 - A_2 + beta_B12 + beta_L1 - theta_1 + theta_2) + cos(A_1 + A_2 - beta_B12 + beta_L1 - theta_1 - theta_2))**2*(B_2 + C_2 - q_2)) + 2*(C_{L1}*sin(A_1 - A_2 + beta_B12) - C_{L4}*sin(A_1 - A_2 + beta_B12 + beta_L13))/(C_{L3}*(-cos(A_1 - A_2 + beta_B12 + beta_L1 - theta_1 + theta_2) + cos(A_1 + A_2 - beta_B12 + beta_L1 - theta_1 - theta_2))*(B_2 + C_2 - q_2)**2) + 2*(-C_{L1}*K_{A22}*cos(A_1 - A_2 + beta_B12) + C_{L4}*K_{A22}*cos(A_1 - A_2 + beta_B12 + beta_L13))/(C_{L3}*(-cos(A_1 - A_2 + beta_B12 + beta_L1 - theta_1 + theta_2) + cos(A_1 + A_2 - beta_B12 + beta_L1 - theta_1 - theta_2))*(B_2 + C_2 - q_2)), (-K_{A22} + K_{t22})*(tan(-A_2 + beta_B12 + theta_2)**2 + 1)/((B_2 + C_2 - q_2)*tan(-A_2 + beta_B12 + theta_2)**2) - 1/((B_2 + C_2 - q_2)**2*tan(-A_2 + beta_B12 + theta_2))]])"
      ]
     },
     "metadata": {},
     "output_type": "display_data"
    }
   ],
   "source": [
    "L1 = Kl.diff(q1)\n",
    "L1 = L1.subs([(diff(A1q,q1), Ka11), (diff(A2q,q1), Ka21), (diff(t1q,q1), Kt11), (diff(t2q,q1), Kt21)])\n",
    "L1 = L1.subs([(A1q, A1), (A2q, A2), (t1q, t1), (t2q, t2)])\n",
    "L1 = L1.subs([(Ka12, 0), (Kt12, 0)])\n",
    "\n",
    "\n",
    "L2 = Kl.diff(q2)\n",
    "L2 = L2.subs([(diff(A1q,q2), Ka12), (diff(A2q,q2), Ka22), (diff(t1q,q2), Kt12), (diff(t2q,q2), Kt22)])\n",
    "L2 = L2.subs([(A1q, A1), (A2q, A2), (t1q, t1), (t2q, t2)])\n",
    "L2 = L2.subs([(Ka12, 0), (Kt12, 0)])\n",
    "\n",
    "\n",
    "display(L1,L2)"
   ]
  },
  {
   "cell_type": "code",
   "execution_count": null,
   "metadata": {},
   "outputs": [],
   "source": [
    "print(latex(L1[3,1]))"
   ]
  },
  {
   "cell_type": "code",
   "execution_count": null,
   "metadata": {},
   "outputs": [],
   "source": [
    "# L2s = simplify(L2.subs([(Ka12,K[0,1]), (Ka22,K[1,1]), (Kt12,K[2,1]), (Kt22, K[3,1])]))\n",
    "# L2s = simplify(L2)\n",
    "# display(L1s)\n",
    "# display(L2s)\n"
   ]
  },
  {
   "cell_type": "code",
   "execution_count": 15,
   "metadata": {},
   "outputs": [
    {
     "data": {
      "text/latex": [
       "$\\displaystyle \\left[\\begin{matrix}\\frac{\\dot{q_1}}{C_{L3} \\sin{\\left(A_{1} + \\beta_{L1} - \\theta_{1} \\right)}}\\\\\\frac{\\dot{q_2}}{C_{B2} \\sin{\\left(- A_{2} + \\beta_{B12} + \\theta_{2} \\right)}} + \\frac{\\dot{q_1} \\left(- C_{L1} \\sin{\\left(A_{1} - \\theta_{2} \\right)} + C_{L4} \\sin{\\left(A_{1} + \\beta_{L13} - \\theta_{2} \\right)}\\right)}{C_{B2} C_{L3} \\sin{\\left(A_{1} + \\beta_{L1} - \\theta_{1} \\right)} \\sin{\\left(- A_{2} + \\beta_{B12} + \\theta_{2} \\right)}}\\\\\\frac{\\dot{q_1}}{\\left(B_{1} + C_{1} - q_{1}\\right) \\tan{\\left(A_{1} + \\beta_{L1} - \\theta_{1} \\right)}}\\\\- \\frac{\\dot{q_2}}{\\left(B_{2} + C_{2} - q_{2}\\right) \\tan{\\left(- A_{2} + \\beta_{B12} + \\theta_{2} \\right)}} + \\frac{2 \\dot{q_1} \\left(C_{L1} \\sin{\\left(A_{1} - A_{2} + \\beta_{B12} \\right)} - C_{L4} \\sin{\\left(A_{1} - A_{2} + \\beta_{B12} + \\beta_{L13} \\right)}\\right)}{C_{L3} \\left(- \\cos{\\left(A_{1} - A_{2} + \\beta_{B12} + \\beta_{L1} - \\theta_{1} + \\theta_{2} \\right)} + \\cos{\\left(A_{1} + A_{2} - \\beta_{B12} + \\beta_{L1} - \\theta_{1} - \\theta_{2} \\right)}\\right) \\left(B_{2} + C_{2} - q_{2}\\right)}\\end{matrix}\\right]$"
      ],
      "text/plain": [
       "Matrix([\n",
       "[                                                                                                                                                                                                                                                             \\dot{q_1}/(C_{L3}*sin(A_1 + beta_L1 - theta_1))],\n",
       "[                                                                                               \\dot{q_2}/(C_{B2}*sin(-A_2 + beta_B12 + theta_2)) + \\dot{q_1}*(-C_{L1}*sin(A_1 - theta_2) + C_{L4}*sin(A_1 + beta_L13 - theta_2))/(C_{B2}*C_{L3}*sin(A_1 + beta_L1 - theta_1)*sin(-A_2 + beta_B12 + theta_2))],\n",
       "[                                                                                                                                                                                                                                                  \\dot{q_1}/((B_1 + C_1 - q_1)*tan(A_1 + beta_L1 - theta_1))],\n",
       "[-\\dot{q_2}/((B_2 + C_2 - q_2)*tan(-A_2 + beta_B12 + theta_2)) + 2*\\dot{q_1}*(C_{L1}*sin(A_1 - A_2 + beta_B12) - C_{L4}*sin(A_1 - A_2 + beta_B12 + beta_L13))/(C_{L3}*(-cos(A_1 - A_2 + beta_B12 + beta_L1 - theta_1 + theta_2) + cos(A_1 + A_2 - beta_B12 + beta_L1 - theta_1 - theta_2))*(B_2 + C_2 - q_2))]])"
      ]
     },
     "metadata": {},
     "output_type": "display_data"
    },
    {
     "data": {
      "text/latex": [
       "$\\displaystyle \\left[\\begin{matrix}\\frac{\\ddot{q_1}}{C_{L3} \\sin{\\left(A_{1} + \\beta_{L1} - \\theta_{1} \\right)}} - \\frac{\\dot{q_1}^{2} \\left(K_{A11} - K_{t11}\\right) \\cos{\\left(A_{1} + \\beta_{L1} - \\theta_{1} \\right)}}{C_{L3} \\sin^{2}{\\left(A_{1} + \\beta_{L1} - \\theta_{1} \\right)}}\\\\\\dot{q_1} \\left(\\dot{q_1} \\left(- \\frac{\\left(K_{A11} - K_{t11}\\right) \\left(- C_{L1} \\sin{\\left(A_{1} - \\theta_{2} \\right)} + C_{L4} \\sin{\\left(A_{1} + \\beta_{L13} - \\theta_{2} \\right)}\\right) \\cos{\\left(A_{1} + \\beta_{L1} - \\theta_{1} \\right)}}{C_{B2} C_{L3} \\sin^{2}{\\left(A_{1} + \\beta_{L1} - \\theta_{1} \\right)} \\sin{\\left(- A_{2} + \\beta_{B12} + \\theta_{2} \\right)}} - \\frac{\\left(- K_{A21} + K_{t21}\\right) \\left(- C_{L1} \\sin{\\left(A_{1} - \\theta_{2} \\right)} + C_{L4} \\sin{\\left(A_{1} + \\beta_{L13} - \\theta_{2} \\right)}\\right) \\cos{\\left(- A_{2} + \\beta_{B12} + \\theta_{2} \\right)}}{C_{B2} C_{L3} \\sin{\\left(A_{1} + \\beta_{L1} - \\theta_{1} \\right)} \\sin^{2}{\\left(- A_{2} + \\beta_{B12} + \\theta_{2} \\right)}} + \\frac{- C_{L1} \\left(K_{A11} - K_{t21}\\right) \\cos{\\left(A_{1} - \\theta_{2} \\right)} + C_{L4} \\left(K_{A11} - K_{t21}\\right) \\cos{\\left(A_{1} + \\beta_{L13} - \\theta_{2} \\right)}}{C_{B2} C_{L3} \\sin{\\left(A_{1} + \\beta_{L1} - \\theta_{1} \\right)} \\sin{\\left(- A_{2} + \\beta_{B12} + \\theta_{2} \\right)}}\\right) + \\dot{q_2} \\left(- \\frac{\\left(- K_{A22} + K_{t22}\\right) \\left(- C_{L1} \\sin{\\left(A_{1} - \\theta_{2} \\right)} + C_{L4} \\sin{\\left(A_{1} + \\beta_{L13} - \\theta_{2} \\right)}\\right) \\cos{\\left(- A_{2} + \\beta_{B12} + \\theta_{2} \\right)}}{C_{B2} C_{L3} \\sin{\\left(A_{1} + \\beta_{L1} - \\theta_{1} \\right)} \\sin^{2}{\\left(- A_{2} + \\beta_{B12} + \\theta_{2} \\right)}} + \\frac{C_{L1} K_{t22} \\cos{\\left(A_{1} - \\theta_{2} \\right)} - C_{L4} K_{t22} \\cos{\\left(A_{1} + \\beta_{L13} - \\theta_{2} \\right)}}{C_{B2} C_{L3} \\sin{\\left(A_{1} + \\beta_{L1} - \\theta_{1} \\right)} \\sin{\\left(- A_{2} + \\beta_{B12} + \\theta_{2} \\right)}}\\right)\\right) + \\dot{q_2} \\left(- \\frac{\\dot{q_1} \\left(- K_{A21} + K_{t21}\\right) \\cos{\\left(- A_{2} + \\beta_{B12} + \\theta_{2} \\right)}}{C_{B2} \\sin^{2}{\\left(- A_{2} + \\beta_{B12} + \\theta_{2} \\right)}} - \\frac{\\dot{q_2} \\left(- K_{A22} + K_{t22}\\right) \\cos{\\left(- A_{2} + \\beta_{B12} + \\theta_{2} \\right)}}{C_{B2} \\sin^{2}{\\left(- A_{2} + \\beta_{B12} + \\theta_{2} \\right)}}\\right) + \\frac{\\ddot{q_2}}{C_{B2} \\sin{\\left(- A_{2} + \\beta_{B12} + \\theta_{2} \\right)}} + \\frac{\\ddot{q_1} \\left(- C_{L1} \\sin{\\left(A_{1} - \\theta_{2} \\right)} + C_{L4} \\sin{\\left(A_{1} + \\beta_{L13} - \\theta_{2} \\right)}\\right)}{C_{B2} C_{L3} \\sin{\\left(A_{1} + \\beta_{L1} - \\theta_{1} \\right)} \\sin{\\left(- A_{2} + \\beta_{B12} + \\theta_{2} \\right)}}\\\\\\frac{\\ddot{q_1}}{\\left(B_{1} + C_{1} - q_{1}\\right) \\tan{\\left(A_{1} + \\beta_{L1} - \\theta_{1} \\right)}} + \\dot{q_1}^{2} \\left(- \\frac{\\left(K_{A11} - K_{t11}\\right) \\left(\\tan^{2}{\\left(A_{1} + \\beta_{L1} - \\theta_{1} \\right)} + 1\\right)}{\\left(B_{1} + C_{1} - q_{1}\\right) \\tan^{2}{\\left(A_{1} + \\beta_{L1} - \\theta_{1} \\right)}} + \\frac{1}{\\left(B_{1} + C_{1} - q_{1}\\right)^{2} \\tan{\\left(A_{1} + \\beta_{L1} - \\theta_{1} \\right)}}\\right)\\\\- \\frac{\\ddot{q_2}}{\\left(B_{2} + C_{2} - q_{2}\\right) \\tan{\\left(- A_{2} + \\beta_{B12} + \\theta_{2} \\right)}} + \\dot{q_1} \\left(\\dot{q_1} \\left(\\frac{2 \\left(C_{L1} \\sin{\\left(A_{1} - A_{2} + \\beta_{B12} \\right)} - C_{L4} \\sin{\\left(A_{1} - A_{2} + \\beta_{B12} + \\beta_{L13} \\right)}\\right) \\left(- \\left(- K_{A11} - K_{A21} + K_{t11} + K_{t21}\\right) \\sin{\\left(A_{1} + A_{2} - \\beta_{B12} + \\beta_{L1} - \\theta_{1} - \\theta_{2} \\right)} - \\left(K_{A11} - K_{A21} - K_{t11} + K_{t21}\\right) \\sin{\\left(A_{1} - A_{2} + \\beta_{B12} + \\beta_{L1} - \\theta_{1} + \\theta_{2} \\right)}\\right)}{C_{L3} \\left(- \\cos{\\left(A_{1} - A_{2} + \\beta_{B12} + \\beta_{L1} - \\theta_{1} + \\theta_{2} \\right)} + \\cos{\\left(A_{1} + A_{2} - \\beta_{B12} + \\beta_{L1} - \\theta_{1} - \\theta_{2} \\right)}\\right)^{2} \\left(B_{2} + C_{2} - q_{2}\\right)} + \\frac{2 \\left(C_{L1} \\left(K_{A11} - K_{A21}\\right) \\cos{\\left(A_{1} - A_{2} + \\beta_{B12} \\right)} - C_{L4} \\left(K_{A11} - K_{A21}\\right) \\cos{\\left(A_{1} - A_{2} + \\beta_{B12} + \\beta_{L13} \\right)}\\right)}{C_{L3} \\left(- \\cos{\\left(A_{1} - A_{2} + \\beta_{B12} + \\beta_{L1} - \\theta_{1} + \\theta_{2} \\right)} + \\cos{\\left(A_{1} + A_{2} - \\beta_{B12} + \\beta_{L1} - \\theta_{1} - \\theta_{2} \\right)}\\right) \\left(B_{2} + C_{2} - q_{2}\\right)}\\right) + \\dot{q_2} \\left(\\frac{2 \\left(C_{L1} \\sin{\\left(A_{1} - A_{2} + \\beta_{B12} \\right)} - C_{L4} \\sin{\\left(A_{1} - A_{2} + \\beta_{B12} + \\beta_{L13} \\right)}\\right) \\left(- \\left(- K_{A22} + K_{t22}\\right) \\sin{\\left(A_{1} - A_{2} + \\beta_{B12} + \\beta_{L1} - \\theta_{1} + \\theta_{2} \\right)} - \\left(- K_{A22} + K_{t22}\\right) \\sin{\\left(A_{1} + A_{2} - \\beta_{B12} + \\beta_{L1} - \\theta_{1} - \\theta_{2} \\right)}\\right)}{C_{L3} \\left(- \\cos{\\left(A_{1} - A_{2} + \\beta_{B12} + \\beta_{L1} - \\theta_{1} + \\theta_{2} \\right)} + \\cos{\\left(A_{1} + A_{2} - \\beta_{B12} + \\beta_{L1} - \\theta_{1} - \\theta_{2} \\right)}\\right)^{2} \\left(B_{2} + C_{2} - q_{2}\\right)} + \\frac{2 \\left(C_{L1} \\sin{\\left(A_{1} - A_{2} + \\beta_{B12} \\right)} - C_{L4} \\sin{\\left(A_{1} - A_{2} + \\beta_{B12} + \\beta_{L13} \\right)}\\right)}{C_{L3} \\left(- \\cos{\\left(A_{1} - A_{2} + \\beta_{B12} + \\beta_{L1} - \\theta_{1} + \\theta_{2} \\right)} + \\cos{\\left(A_{1} + A_{2} - \\beta_{B12} + \\beta_{L1} - \\theta_{1} - \\theta_{2} \\right)}\\right) \\left(B_{2} + C_{2} - q_{2}\\right)^{2}} + \\frac{2 \\left(- C_{L1} K_{A22} \\cos{\\left(A_{1} - A_{2} + \\beta_{B12} \\right)} + C_{L4} K_{A22} \\cos{\\left(A_{1} - A_{2} + \\beta_{B12} + \\beta_{L13} \\right)}\\right)}{C_{L3} \\left(- \\cos{\\left(A_{1} - A_{2} + \\beta_{B12} + \\beta_{L1} - \\theta_{1} + \\theta_{2} \\right)} + \\cos{\\left(A_{1} + A_{2} - \\beta_{B12} + \\beta_{L1} - \\theta_{1} - \\theta_{2} \\right)}\\right) \\left(B_{2} + C_{2} - q_{2}\\right)}\\right)\\right) + \\dot{q_2} \\left(\\frac{\\dot{q_1} \\left(- K_{A21} + K_{t21}\\right) \\left(\\tan^{2}{\\left(- A_{2} + \\beta_{B12} + \\theta_{2} \\right)} + 1\\right)}{\\left(B_{2} + C_{2} - q_{2}\\right) \\tan^{2}{\\left(- A_{2} + \\beta_{B12} + \\theta_{2} \\right)}} + \\dot{q_2} \\left(\\frac{\\left(- K_{A22} + K_{t22}\\right) \\left(\\tan^{2}{\\left(- A_{2} + \\beta_{B12} + \\theta_{2} \\right)} + 1\\right)}{\\left(B_{2} + C_{2} - q_{2}\\right) \\tan^{2}{\\left(- A_{2} + \\beta_{B12} + \\theta_{2} \\right)}} - \\frac{1}{\\left(B_{2} + C_{2} - q_{2}\\right)^{2} \\tan{\\left(- A_{2} + \\beta_{B12} + \\theta_{2} \\right)}}\\right)\\right) + \\frac{2 \\ddot{q_1} \\left(C_{L1} \\sin{\\left(A_{1} - A_{2} + \\beta_{B12} \\right)} - C_{L4} \\sin{\\left(A_{1} - A_{2} + \\beta_{B12} + \\beta_{L13} \\right)}\\right)}{C_{L3} \\left(- \\cos{\\left(A_{1} - A_{2} + \\beta_{B12} + \\beta_{L1} - \\theta_{1} + \\theta_{2} \\right)} + \\cos{\\left(A_{1} + A_{2} - \\beta_{B12} + \\beta_{L1} - \\theta_{1} - \\theta_{2} \\right)}\\right) \\left(B_{2} + C_{2} - q_{2}\\right)}\\end{matrix}\\right]$"
      ],
      "text/plain": [
       "Matrix([\n",
       "[                                                                                                                                                                                                                                                                                                                                                                                                                                                                                                                                                                                                                                                                                                                                                                                                                                                                                                                                                                                                                                                                                                                                                                                                                                                                                                                                                                                                                                                                                                                                                                                                                                                                                                                                                                                                                                                                                                                                                                                                                                                                                                                                                               \\ddot{q_1}/(C_{L3}*sin(A_1 + beta_L1 - theta_1)) - \\dot{q_1}**2*(K_{A11} - K_{t11})*cos(A_1 + beta_L1 - theta_1)/(C_{L3}*sin(A_1 + beta_L1 - theta_1)**2)],\n",
       "[                                                                                                                                                                                                                                                                                                                                                                                                                                                                                                                                                                                                                                                                                                                                                                                                                                             \\dot{q_1}*(\\dot{q_1}*(-(K_{A11} - K_{t11})*(-C_{L1}*sin(A_1 - theta_2) + C_{L4}*sin(A_1 + beta_L13 - theta_2))*cos(A_1 + beta_L1 - theta_1)/(C_{B2}*C_{L3}*sin(A_1 + beta_L1 - theta_1)**2*sin(-A_2 + beta_B12 + theta_2)) - (-K_{A21} + K_{t21})*(-C_{L1}*sin(A_1 - theta_2) + C_{L4}*sin(A_1 + beta_L13 - theta_2))*cos(-A_2 + beta_B12 + theta_2)/(C_{B2}*C_{L3}*sin(A_1 + beta_L1 - theta_1)*sin(-A_2 + beta_B12 + theta_2)**2) + (-C_{L1}*(K_{A11} - K_{t21})*cos(A_1 - theta_2) + C_{L4}*(K_{A11} - K_{t21})*cos(A_1 + beta_L13 - theta_2))/(C_{B2}*C_{L3}*sin(A_1 + beta_L1 - theta_1)*sin(-A_2 + beta_B12 + theta_2))) + \\dot{q_2}*(-(-K_{A22} + K_{t22})*(-C_{L1}*sin(A_1 - theta_2) + C_{L4}*sin(A_1 + beta_L13 - theta_2))*cos(-A_2 + beta_B12 + theta_2)/(C_{B2}*C_{L3}*sin(A_1 + beta_L1 - theta_1)*sin(-A_2 + beta_B12 + theta_2)**2) + (C_{L1}*K_{t22}*cos(A_1 - theta_2) - C_{L4}*K_{t22}*cos(A_1 + beta_L13 - theta_2))/(C_{B2}*C_{L3}*sin(A_1 + beta_L1 - theta_1)*sin(-A_2 + beta_B12 + theta_2)))) + \\dot{q_2}*(-\\dot{q_1}*(-K_{A21} + K_{t21})*cos(-A_2 + beta_B12 + theta_2)/(C_{B2}*sin(-A_2 + beta_B12 + theta_2)**2) - \\dot{q_2}*(-K_{A22} + K_{t22})*cos(-A_2 + beta_B12 + theta_2)/(C_{B2}*sin(-A_2 + beta_B12 + theta_2)**2)) + \\ddot{q_2}/(C_{B2}*sin(-A_2 + beta_B12 + theta_2)) + \\ddot{q_1}*(-C_{L1}*sin(A_1 - theta_2) + C_{L4}*sin(A_1 + beta_L13 - theta_2))/(C_{B2}*C_{L3}*sin(A_1 + beta_L1 - theta_1)*sin(-A_2 + beta_B12 + theta_2))],\n",
       "[                                                                                                                                                                                                                                                                                                                                                                                                                                                                                                                                                                                                                                                                                                                                                                                                                                                                                                                                                                                                                                                                                                                                                                                                                                                                                                                                                                                                                                                                                                                                                                                                                                                                                                                                                                                                                                                                                                                                                                                                                                                                     \\ddot{q_1}/((B_1 + C_1 - q_1)*tan(A_1 + beta_L1 - theta_1)) + \\dot{q_1}**2*(-(K_{A11} - K_{t11})*(tan(A_1 + beta_L1 - theta_1)**2 + 1)/((B_1 + C_1 - q_1)*tan(A_1 + beta_L1 - theta_1)**2) + 1/((B_1 + C_1 - q_1)**2*tan(A_1 + beta_L1 - theta_1)))],\n",
       "[-\\ddot{q_2}/((B_2 + C_2 - q_2)*tan(-A_2 + beta_B12 + theta_2)) + \\dot{q_1}*(\\dot{q_1}*(2*(C_{L1}*sin(A_1 - A_2 + beta_B12) - C_{L4}*sin(A_1 - A_2 + beta_B12 + beta_L13))*(-(-K_{A11} - K_{A21} + K_{t11} + K_{t21})*sin(A_1 + A_2 - beta_B12 + beta_L1 - theta_1 - theta_2) - (K_{A11} - K_{A21} - K_{t11} + K_{t21})*sin(A_1 - A_2 + beta_B12 + beta_L1 - theta_1 + theta_2))/(C_{L3}*(-cos(A_1 - A_2 + beta_B12 + beta_L1 - theta_1 + theta_2) + cos(A_1 + A_2 - beta_B12 + beta_L1 - theta_1 - theta_2))**2*(B_2 + C_2 - q_2)) + 2*(C_{L1}*(K_{A11} - K_{A21})*cos(A_1 - A_2 + beta_B12) - C_{L4}*(K_{A11} - K_{A21})*cos(A_1 - A_2 + beta_B12 + beta_L13))/(C_{L3}*(-cos(A_1 - A_2 + beta_B12 + beta_L1 - theta_1 + theta_2) + cos(A_1 + A_2 - beta_B12 + beta_L1 - theta_1 - theta_2))*(B_2 + C_2 - q_2))) + \\dot{q_2}*(2*(C_{L1}*sin(A_1 - A_2 + beta_B12) - C_{L4}*sin(A_1 - A_2 + beta_B12 + beta_L13))*(-(-K_{A22} + K_{t22})*sin(A_1 - A_2 + beta_B12 + beta_L1 - theta_1 + theta_2) - (-K_{A22} + K_{t22})*sin(A_1 + A_2 - beta_B12 + beta_L1 - theta_1 - theta_2))/(C_{L3}*(-cos(A_1 - A_2 + beta_B12 + beta_L1 - theta_1 + theta_2) + cos(A_1 + A_2 - beta_B12 + beta_L1 - theta_1 - theta_2))**2*(B_2 + C_2 - q_2)) + 2*(C_{L1}*sin(A_1 - A_2 + beta_B12) - C_{L4}*sin(A_1 - A_2 + beta_B12 + beta_L13))/(C_{L3}*(-cos(A_1 - A_2 + beta_B12 + beta_L1 - theta_1 + theta_2) + cos(A_1 + A_2 - beta_B12 + beta_L1 - theta_1 - theta_2))*(B_2 + C_2 - q_2)**2) + 2*(-C_{L1}*K_{A22}*cos(A_1 - A_2 + beta_B12) + C_{L4}*K_{A22}*cos(A_1 - A_2 + beta_B12 + beta_L13))/(C_{L3}*(-cos(A_1 - A_2 + beta_B12 + beta_L1 - theta_1 + theta_2) + cos(A_1 + A_2 - beta_B12 + beta_L1 - theta_1 - theta_2))*(B_2 + C_2 - q_2)))) + \\dot{q_2}*(\\dot{q_1}*(-K_{A21} + K_{t21})*(tan(-A_2 + beta_B12 + theta_2)**2 + 1)/((B_2 + C_2 - q_2)*tan(-A_2 + beta_B12 + theta_2)**2) + \\dot{q_2}*((-K_{A22} + K_{t22})*(tan(-A_2 + beta_B12 + theta_2)**2 + 1)/((B_2 + C_2 - q_2)*tan(-A_2 + beta_B12 + theta_2)**2) - 1/((B_2 + C_2 - q_2)**2*tan(-A_2 + beta_B12 + theta_2)))) + 2*\\ddot{q_1}*(C_{L1}*sin(A_1 - A_2 + beta_B12) - C_{L4}*sin(A_1 - A_2 + beta_B12 + beta_L13))/(C_{L3}*(-cos(A_1 - A_2 + beta_B12 + beta_L1 - theta_1 + theta_2) + cos(A_1 + A_2 - beta_B12 + beta_L1 - theta_1 - theta_2))*(B_2 + C_2 - q_2))]])"
      ]
     },
     "metadata": {},
     "output_type": "display_data"
    }
   ],
   "source": [
    "Sd = K*qd\n",
    "Sdd = K*qdd + (L1*q1d + L2*q2d)*qd\n",
    "\n",
    "display(Sd, Sdd)"
   ]
  },
  {
   "cell_type": "markdown",
   "metadata": {},
   "source": [
    "# Análise de ponto de interesse:"
   ]
  },
  {
   "cell_type": "code",
   "execution_count": 16,
   "metadata": {},
   "outputs": [
    {
     "data": {
      "text/latex": [
       "$\\displaystyle - C_{B1} \\cos{\\left(\\operatorname{A_{2}}{\\left(q_{1},q_{2} \\right)} \\right)} + C_{L1} \\cos{\\left(\\operatorname{A_{1}}{\\left(q_{1},q_{2} \\right)} \\right)}$"
      ],
      "text/plain": [
       "-C_{B1}*cos(A_2(q_1, q_2)) + C_{L1}*cos(A_1(q_1, q_2))"
      ]
     },
     "metadata": {},
     "output_type": "display_data"
    },
    {
     "data": {
      "text/latex": [
       "$\\displaystyle - C_{B1} \\sin{\\left(\\operatorname{A_{2}}{\\left(q_{1},q_{2} \\right)} \\right)} + C_{L1} \\sin{\\left(\\operatorname{A_{1}}{\\left(q_{1},q_{2} \\right)} \\right)}$"
      ],
      "text/plain": [
       "-C_{B1}*sin(A_2(q_1, q_2)) + C_{L1}*sin(A_1(q_1, q_2))"
      ]
     },
     "metadata": {},
     "output_type": "display_data"
    }
   ],
   "source": [
    "Xp = Cl1*cos(A1q) - Cb1*cos(A2q)\n",
    "Yp = Cl1*sin(A1q) - Cb1*sin(A2q)\n",
    "\n",
    "P = Matrix([Xp,Yp])\n",
    "\n",
    "display(Xp, Yp)"
   ]
  },
  {
   "cell_type": "code",
   "execution_count": 17,
   "metadata": {},
   "outputs": [
    {
     "data": {
      "text/latex": [
       "$\\displaystyle \\left[\\begin{matrix}C_{B1} K_{A21} \\sin{\\left(A_{2} \\right)} - C_{L1} K_{A11} \\sin{\\left(A_{1} \\right)} & C_{B1} K_{A22} \\sin{\\left(A_{2} \\right)} - C_{L1} K_{A12} \\sin{\\left(A_{1} \\right)}\\\\- C_{B1} K_{A21} \\cos{\\left(A_{2} \\right)} + C_{L1} K_{A11} \\cos{\\left(A_{1} \\right)} & - C_{B1} K_{A22} \\cos{\\left(A_{2} \\right)} + C_{L1} K_{A12} \\cos{\\left(A_{1} \\right)}\\end{matrix}\\right]$"
      ],
      "text/plain": [
       "Matrix([\n",
       "[ C_{B1}*K_{A21}*sin(A_2) - C_{L1}*K_{A11}*sin(A_1),  C_{B1}*K_{A22}*sin(A_2) - C_{L1}*K_{A12}*sin(A_1)],\n",
       "[-C_{B1}*K_{A21}*cos(A_2) + C_{L1}*K_{A11}*cos(A_1), -C_{B1}*K_{A22}*cos(A_2) + C_{L1}*K_{A12}*cos(A_1)]])"
      ]
     },
     "metadata": {},
     "output_type": "display_data"
    }
   ],
   "source": [
    "# Velocidade do ponto de interesse\n",
    "# Kp = P.jacobian(q).subs([(Aq.diff(q1),Ka1), (Aq.diff(q2),Ka2)]).subs([(Aq,A), (Bq, B)])\n",
    "Kp = P.jacobian(q).subs([(diff(A1q,q1), Ka11), (diff(A1q,q2), Ka12), (diff(A2q,q1), Ka21), (diff(A2q,q2), Ka22)]).subs([(A1q,A1), (A2q, A2)])\n",
    "\n",
    "display(Kp)"
   ]
  },
  {
   "cell_type": "code",
   "execution_count": null,
   "metadata": {},
   "outputs": [],
   "source": [
    "print(latex(Kp))"
   ]
  },
  {
   "cell_type": "code",
   "execution_count": 18,
   "metadata": {},
   "outputs": [
    {
     "data": {
      "text/latex": [
       "$\\displaystyle \\left[\\begin{matrix}C_{B1} K_{A21}^{2} \\cos{\\left(A_{2} \\right)} + C_{B1} L_{1A21} \\sin{\\left(A_{2} \\right)} - C_{L1} K_{A11}^{2} \\cos{\\left(A_{1} \\right)} - C_{L1} L_{1A11} \\sin{\\left(A_{1} \\right)} & C_{B1} K_{A21} K_{A22} \\cos{\\left(A_{2} \\right)} + C_{B1} L_{1A22} \\sin{\\left(A_{2} \\right)} - C_{L1} K_{A11} K_{A12} \\cos{\\left(A_{1} \\right)} - C_{L1} L_{1A12} \\sin{\\left(A_{1} \\right)}\\\\C_{B1} K_{A21}^{2} \\sin{\\left(A_{2} \\right)} - C_{B1} L_{1A21} \\cos{\\left(A_{2} \\right)} - C_{L1} K_{A11}^{2} \\sin{\\left(A_{1} \\right)} + C_{L1} L_{1A11} \\cos{\\left(A_{1} \\right)} & C_{B1} K_{A21} K_{A22} \\sin{\\left(A_{2} \\right)} - C_{B1} L_{1A22} \\cos{\\left(A_{2} \\right)} - C_{L1} K_{A11} K_{A12} \\sin{\\left(A_{1} \\right)} + C_{L1} L_{1A12} \\cos{\\left(A_{1} \\right)}\\end{matrix}\\right]$"
      ],
      "text/plain": [
       "Matrix([\n",
       "[C_{B1}*K_{A21}**2*cos(A_2) + C_{B1}*L_{1A21}*sin(A_2) - C_{L1}*K_{A11}**2*cos(A_1) - C_{L1}*L_{1A11}*sin(A_1), C_{B1}*K_{A21}*K_{A22}*cos(A_2) + C_{B1}*L_{1A22}*sin(A_2) - C_{L1}*K_{A11}*K_{A12}*cos(A_1) - C_{L1}*L_{1A12}*sin(A_1)],\n",
       "[C_{B1}*K_{A21}**2*sin(A_2) - C_{B1}*L_{1A21}*cos(A_2) - C_{L1}*K_{A11}**2*sin(A_1) + C_{L1}*L_{1A11}*cos(A_1), C_{B1}*K_{A21}*K_{A22}*sin(A_2) - C_{B1}*L_{1A22}*cos(A_2) - C_{L1}*K_{A11}*K_{A12}*sin(A_1) + C_{L1}*L_{1A12}*cos(A_1)]])"
      ]
     },
     "metadata": {},
     "output_type": "display_data"
    },
    {
     "data": {
      "text/latex": [
       "$\\displaystyle \\left[\\begin{matrix}C_{B1} K_{A21} K_{A22} \\cos{\\left(A_{2} \\right)} + C_{B1} L_{2A21} \\sin{\\left(A_{2} \\right)} - C_{L1} K_{A11} K_{A12} \\cos{\\left(A_{1} \\right)} - C_{L1} L_{2A11} \\sin{\\left(A_{1} \\right)} & C_{B1} K_{A22}^{2} \\cos{\\left(A_{2} \\right)} + C_{B1} L_{2A22} \\sin{\\left(A_{2} \\right)} - C_{L1} K_{A12}^{2} \\cos{\\left(A_{1} \\right)} - C_{L1} L_{2A12} \\sin{\\left(A_{1} \\right)}\\\\C_{B1} K_{A21} K_{A22} \\sin{\\left(A_{2} \\right)} - C_{B1} L_{2A21} \\cos{\\left(A_{2} \\right)} - C_{L1} K_{A11} K_{A12} \\sin{\\left(A_{1} \\right)} + C_{L1} L_{2A11} \\cos{\\left(A_{1} \\right)} & C_{B1} K_{A22}^{2} \\sin{\\left(A_{2} \\right)} - C_{B1} L_{2A22} \\cos{\\left(A_{2} \\right)} - C_{L1} K_{A12}^{2} \\sin{\\left(A_{1} \\right)} + C_{L1} L_{2A12} \\cos{\\left(A_{1} \\right)}\\end{matrix}\\right]$"
      ],
      "text/plain": [
       "Matrix([\n",
       "[C_{B1}*K_{A21}*K_{A22}*cos(A_2) + C_{B1}*L_{2A21}*sin(A_2) - C_{L1}*K_{A11}*K_{A12}*cos(A_1) - C_{L1}*L_{2A11}*sin(A_1), C_{B1}*K_{A22}**2*cos(A_2) + C_{B1}*L_{2A22}*sin(A_2) - C_{L1}*K_{A12}**2*cos(A_1) - C_{L1}*L_{2A12}*sin(A_1)],\n",
       "[C_{B1}*K_{A21}*K_{A22}*sin(A_2) - C_{B1}*L_{2A21}*cos(A_2) - C_{L1}*K_{A11}*K_{A12}*sin(A_1) + C_{L1}*L_{2A11}*cos(A_1), C_{B1}*K_{A22}**2*sin(A_2) - C_{B1}*L_{2A22}*cos(A_2) - C_{L1}*K_{A12}**2*sin(A_1) + C_{L1}*L_{2A12}*cos(A_1)]])"
      ]
     },
     "metadata": {},
     "output_type": "display_data"
    }
   ],
   "source": [
    "Kpl = Kp.subs([(Ka11, Ka11q), (Ka12, Ka12q), (Ka21, Ka21q), (Ka22, Ka22q), (A1,A1q), (A2, A2q)])\n",
    "Lp1 = Kpl.diff(q1).subs([(Ka11q.diff(q1),L1a11), (Ka12q.diff(q1),L1a12), (Ka21q.diff(q1),L1a21), (Ka22q.diff(q1),L1a22)])\n",
    "Lp1 = Lp1.subs([(diff(A1q,q1), Ka11), (diff(A2q,q1), Ka21)]).subs([(Ka11q, Ka11), (Ka12q, Ka12), (Ka21q, Ka21), (Ka22q, Ka22),(A1q,A1), (A2q, A2)])\n",
    "\n",
    "\n",
    "Lp2 = Kpl.diff(q2).subs([(Ka11q.diff(q2),L2a11), (Ka12q.diff(q2),L2a12), (Ka21q.diff(q2),L2a21), (Ka22q.diff(q2),L2a22)])\n",
    "Lp2 = Lp2.subs([(diff(A1q,q2), Ka12), (diff(A2q,q2), Ka22)]).subs([(Ka11q, Ka11), (Ka12q, Ka12), (Ka21q, Ka21), (Ka22q, Ka22),(A1q,A1), (A2q, A2)])\n",
    "\n",
    "# Lp2 = Kpl.diff(q2).subs([(Ka11q.diff(q2),La12), (Ka2.diff(q2),La22)]).subs([(Aq.diff(q2),Ka1), (Bq.diff(q2),Kb1)]).subs([(Aq,A), (Bq, B)])\n",
    "\n",
    "# display(Kpl)\n",
    "display(Lp1)\n",
    "display(Lp2)\n"
   ]
  },
  {
   "cell_type": "code",
   "execution_count": null,
   "metadata": {},
   "outputs": [],
   "source": [
    "print(latex(Lp2))"
   ]
  },
  {
   "cell_type": "code",
   "execution_count": 19,
   "metadata": {},
   "outputs": [
    {
     "data": {
      "text/latex": [
       "$\\displaystyle \\left[\\begin{matrix}\\frac{0.000706713780918728 \\dot{q_1}}{\\sin{\\left(A_{1} - \\theta_{1} + 0.265290046303138 \\right)}}\\\\\\frac{1.63591152990446 \\cdot 10^{-6} \\dot{q_1} \\left(- 2866 \\sin{\\left(A_{1} - \\theta_{2} \\right)} + 1858.0 \\sin{\\left(A_{1} - \\theta_{2} + 0.474729556542458 \\right)}\\right)}{\\sin{\\left(A_{1} - \\theta_{1} + 0.265290046303138 \\right)} \\sin{\\left(- A_{2} + \\theta_{2} + 2.61799387799149 \\right)}} + \\frac{0.00231481481481481 \\dot{q_2}}{\\sin{\\left(- A_{2} + \\theta_{2} + 2.61799387799149 \\right)}}\\\\\\frac{\\dot{q_1}}{\\left(1841.0 - q_{1}\\right) \\tan{\\left(A_{1} - \\theta_{1} + 0.265290046303138 \\right)}}\\\\\\frac{0.00141342756183746 \\dot{q_1} \\left(2866 \\sin{\\left(A_{1} - A_{2} + 2.61799387799149 \\right)} - 1858.0 \\sin{\\left(A_{1} - A_{2} + 3.09272343453395 \\right)}\\right)}{\\left(1895.0 - q_{2}\\right) \\left(\\cos{\\left(- A_{1} - A_{2} + \\theta_{1} + \\theta_{2} + 2.35270383168836 \\right)} - \\cos{\\left(A_{1} - A_{2} - \\theta_{1} + \\theta_{2} + 2.88328392429463 \\right)}\\right)} - \\frac{\\dot{q_2}}{\\left(1895.0 - q_{2}\\right) \\tan{\\left(- A_{2} + \\theta_{2} + 2.61799387799149 \\right)}}\\end{matrix}\\right]$"
      ],
      "text/plain": [
       "Matrix([\n",
       "[                                                                                                                                                                                                                                                  0.000706713780918728*\\dot{q_1}/sin(A_1 - theta_1 + 0.265290046303138)],\n",
       "[                                                        1.63591152990446e-6*\\dot{q_1}*(-2866*sin(A_1 - theta_2) + 1858.0*sin(A_1 - theta_2 + 0.474729556542458))/(sin(A_1 - theta_1 + 0.265290046303138)*sin(-A_2 + theta_2 + 2.61799387799149)) + 0.00231481481481481*\\dot{q_2}/sin(-A_2 + theta_2 + 2.61799387799149)],\n",
       "[                                                                                                                                                                                                                                                      \\dot{q_1}/((1841.0 - q_1)*tan(A_1 - theta_1 + 0.265290046303138))],\n",
       "[0.00141342756183746*\\dot{q_1}*(2866*sin(A_1 - A_2 + 2.61799387799149) - 1858.0*sin(A_1 - A_2 + 3.09272343453395))/((1895.0 - q_2)*(cos(-A_1 - A_2 + theta_1 + theta_2 + 2.35270383168836) - cos(A_1 - A_2 - theta_1 + theta_2 + 2.88328392429463))) - \\dot{q_2}/((1895.0 - q_2)*tan(-A_2 + theta_2 + 2.61799387799149))]])"
      ]
     },
     "metadata": {},
     "output_type": "display_data"
    },
    {
     "data": {
      "text/latex": [
       "$\\displaystyle \\left[\\begin{matrix}\\frac{0.000706713780918728 \\ddot{q_1}}{\\sin{\\left(A_{1} - \\theta_{1} + 0.265290046303138 \\right)}} - \\frac{0.000706713780918728 \\dot{q_1}^{2} \\left(K_{A11} - K_{t11}\\right) \\cos{\\left(A_{1} - \\theta_{1} + 0.265290046303138 \\right)}}{\\sin^{2}{\\left(A_{1} - \\theta_{1} + 0.265290046303138 \\right)}}\\\\\\frac{1.63591152990446 \\cdot 10^{-6} \\ddot{q_1} \\left(- 2866 \\sin{\\left(A_{1} - \\theta_{2} \\right)} + 1858.0 \\sin{\\left(A_{1} - \\theta_{2} + 0.474729556542458 \\right)}\\right)}{\\sin{\\left(A_{1} - \\theta_{1} + 0.265290046303138 \\right)} \\sin{\\left(- A_{2} + \\theta_{2} + 2.61799387799149 \\right)}} + \\frac{0.00231481481481481 \\ddot{q_2}}{\\sin{\\left(- A_{2} + \\theta_{2} + 2.61799387799149 \\right)}} + \\dot{q_1} \\left(\\dot{q_1} \\left(- \\frac{1.63591152990446 \\cdot 10^{-6} \\left(K_{A11} - K_{t11}\\right) \\left(- 2866 \\sin{\\left(A_{1} - \\theta_{2} \\right)} + 1858.0 \\sin{\\left(A_{1} - \\theta_{2} + 0.474729556542458 \\right)}\\right) \\cos{\\left(A_{1} - \\theta_{1} + 0.265290046303138 \\right)}}{\\sin^{2}{\\left(A_{1} - \\theta_{1} + 0.265290046303138 \\right)} \\sin{\\left(- A_{2} + \\theta_{2} + 2.61799387799149 \\right)}} - \\frac{1.63591152990446 \\cdot 10^{-6} \\left(- K_{A21} + K_{t21}\\right) \\left(- 2866 \\sin{\\left(A_{1} - \\theta_{2} \\right)} + 1858.0 \\sin{\\left(A_{1} - \\theta_{2} + 0.474729556542458 \\right)}\\right) \\cos{\\left(- A_{2} + \\theta_{2} + 2.61799387799149 \\right)}}{\\sin{\\left(A_{1} - \\theta_{1} + 0.265290046303138 \\right)} \\sin^{2}{\\left(- A_{2} + \\theta_{2} + 2.61799387799149 \\right)}} + \\frac{1.63591152990446 \\cdot 10^{-6} \\left(- 2866 \\left(K_{A11} - K_{t21}\\right) \\cos{\\left(A_{1} - \\theta_{2} \\right)} + 1858.0 \\left(K_{A11} - K_{t21}\\right) \\cos{\\left(A_{1} - \\theta_{2} + 0.474729556542458 \\right)}\\right)}{\\sin{\\left(A_{1} - \\theta_{1} + 0.265290046303138 \\right)} \\sin{\\left(- A_{2} + \\theta_{2} + 2.61799387799149 \\right)}}\\right) + \\dot{q_2} \\left(- \\frac{1.63591152990446 \\cdot 10^{-6} \\left(- K_{A22} + K_{t22}\\right) \\left(- 2866 \\sin{\\left(A_{1} - \\theta_{2} \\right)} + 1858.0 \\sin{\\left(A_{1} - \\theta_{2} + 0.474729556542458 \\right)}\\right) \\cos{\\left(- A_{2} + \\theta_{2} + 2.61799387799149 \\right)}}{\\sin{\\left(A_{1} - \\theta_{1} + 0.265290046303138 \\right)} \\sin^{2}{\\left(- A_{2} + \\theta_{2} + 2.61799387799149 \\right)}} + \\frac{1.63591152990446 \\cdot 10^{-6} \\left(2866 K_{t22} \\cos{\\left(A_{1} - \\theta_{2} \\right)} - 1858.0 K_{t22} \\cos{\\left(A_{1} - \\theta_{2} + 0.474729556542458 \\right)}\\right)}{\\sin{\\left(A_{1} - \\theta_{1} + 0.265290046303138 \\right)} \\sin{\\left(- A_{2} + \\theta_{2} + 2.61799387799149 \\right)}}\\right)\\right) + \\dot{q_2} \\left(- \\frac{0.00231481481481481 \\dot{q_1} \\left(- K_{A21} + K_{t21}\\right) \\cos{\\left(- A_{2} + \\theta_{2} + 2.61799387799149 \\right)}}{\\sin^{2}{\\left(- A_{2} + \\theta_{2} + 2.61799387799149 \\right)}} - \\frac{0.00231481481481481 \\dot{q_2} \\left(- K_{A22} + K_{t22}\\right) \\cos{\\left(- A_{2} + \\theta_{2} + 2.61799387799149 \\right)}}{\\sin^{2}{\\left(- A_{2} + \\theta_{2} + 2.61799387799149 \\right)}}\\right)\\\\\\frac{\\ddot{q_1}}{\\left(1841.0 - q_{1}\\right) \\tan{\\left(A_{1} - \\theta_{1} + 0.265290046303138 \\right)}} + \\dot{q_1}^{2} \\left(- \\frac{\\left(K_{A11} - K_{t11}\\right) \\left(\\tan^{2}{\\left(A_{1} - \\theta_{1} + 0.265290046303138 \\right)} + 1\\right)}{\\left(1841.0 - q_{1}\\right) \\tan^{2}{\\left(A_{1} - \\theta_{1} + 0.265290046303138 \\right)}} + \\frac{2.95047828728276 \\cdot 10^{-7}}{\\left(1 - 0.000543183052688756 q_{1}\\right)^{2} \\tan{\\left(A_{1} - \\theta_{1} + 0.265290046303138 \\right)}}\\right)\\\\\\frac{0.00141342756183746 \\ddot{q_1} \\left(2866 \\sin{\\left(A_{1} - A_{2} + 2.61799387799149 \\right)} - 1858.0 \\sin{\\left(A_{1} - A_{2} + 3.09272343453395 \\right)}\\right)}{\\left(1895.0 - q_{2}\\right) \\left(\\cos{\\left(- A_{1} - A_{2} + \\theta_{1} + \\theta_{2} + 2.35270383168836 \\right)} - \\cos{\\left(A_{1} - A_{2} - \\theta_{1} + \\theta_{2} + 2.88328392429463 \\right)}\\right)} - \\frac{\\ddot{q_2}}{\\left(1895.0 - q_{2}\\right) \\tan{\\left(- A_{2} + \\theta_{2} + 2.61799387799149 \\right)}} + \\dot{q_1} \\left(\\dot{q_1} \\left(\\frac{0.00141342756183746 \\left(2866 \\left(K_{A11} - K_{A21}\\right) \\cos{\\left(A_{1} - A_{2} + 2.61799387799149 \\right)} - 1858.0 \\left(K_{A11} - K_{A21}\\right) \\cos{\\left(A_{1} - A_{2} + 3.09272343453395 \\right)}\\right)}{\\left(1895.0 - q_{2}\\right) \\left(\\cos{\\left(- A_{1} - A_{2} + \\theta_{1} + \\theta_{2} + 2.35270383168836 \\right)} - \\cos{\\left(A_{1} - A_{2} - \\theta_{1} + \\theta_{2} + 2.88328392429463 \\right)}\\right)} + \\frac{0.00141342756183746 \\left(\\left(- K_{A11} - K_{A21} + K_{t11} + K_{t21}\\right) \\sin{\\left(- A_{1} - A_{2} + \\theta_{1} + \\theta_{2} + 2.35270383168836 \\right)} - \\left(K_{A11} - K_{A21} - K_{t11} + K_{t21}\\right) \\sin{\\left(A_{1} - A_{2} - \\theta_{1} + \\theta_{2} + 2.88328392429463 \\right)}\\right) \\left(2866 \\sin{\\left(A_{1} - A_{2} + 2.61799387799149 \\right)} - 1858.0 \\sin{\\left(A_{1} - A_{2} + 3.09272343453395 \\right)}\\right)}{\\left(1895.0 - q_{2}\\right) \\left(\\cos{\\left(- A_{1} - A_{2} + \\theta_{1} + \\theta_{2} + 2.35270383168836 \\right)} - \\cos{\\left(A_{1} - A_{2} - \\theta_{1} + \\theta_{2} + 2.88328392429463 \\right)}\\right)^{2}}\\right) + \\dot{q_2} \\left(\\frac{0.00141342756183746 \\left(- 2866 K_{A22} \\cos{\\left(A_{1} - A_{2} + 2.61799387799149 \\right)} + 1858.0 K_{A22} \\cos{\\left(A_{1} - A_{2} + 3.09272343453395 \\right)}\\right)}{\\left(1895.0 - q_{2}\\right) \\left(\\cos{\\left(- A_{1} - A_{2} + \\theta_{1} + \\theta_{2} + 2.35270383168836 \\right)} - \\cos{\\left(A_{1} - A_{2} - \\theta_{1} + \\theta_{2} + 2.88328392429463 \\right)}\\right)} + \\frac{0.00141342756183746 \\left(\\left(- K_{A22} + K_{t22}\\right) \\sin{\\left(- A_{1} - A_{2} + \\theta_{1} + \\theta_{2} + 2.35270383168836 \\right)} - \\left(- K_{A22} + K_{t22}\\right) \\sin{\\left(A_{1} - A_{2} - \\theta_{1} + \\theta_{2} + 2.88328392429463 \\right)}\\right) \\left(2866 \\sin{\\left(A_{1} - A_{2} + 2.61799387799149 \\right)} - 1858.0 \\sin{\\left(A_{1} - A_{2} + 3.09272343453395 \\right)}\\right)}{\\left(1895.0 - q_{2}\\right) \\left(\\cos{\\left(- A_{1} - A_{2} + \\theta_{1} + \\theta_{2} + 2.35270383168836 \\right)} - \\cos{\\left(A_{1} - A_{2} - \\theta_{1} + \\theta_{2} + 2.88328392429463 \\right)}\\right)^{2}} + \\frac{3.93600033928323 \\cdot 10^{-10} \\left(2866 \\sin{\\left(A_{1} - A_{2} + 2.61799387799149 \\right)} - 1858.0 \\sin{\\left(A_{1} - A_{2} + 3.09272343453395 \\right)}\\right)}{\\left(1 - 0.000527704485488127 q_{2}\\right)^{2} \\left(\\cos{\\left(- A_{1} - A_{2} + \\theta_{1} + \\theta_{2} + 2.35270383168836 \\right)} - \\cos{\\left(A_{1} - A_{2} - \\theta_{1} + \\theta_{2} + 2.88328392429463 \\right)}\\right)}\\right)\\right) + \\dot{q_2} \\left(\\frac{\\dot{q_1} \\left(- K_{A21} + K_{t21}\\right) \\left(\\tan^{2}{\\left(- A_{2} + \\theta_{2} + 2.61799387799149 \\right)} + 1\\right)}{\\left(1895.0 - q_{2}\\right) \\tan^{2}{\\left(- A_{2} + \\theta_{2} + 2.61799387799149 \\right)}} + \\dot{q_2} \\left(\\frac{\\left(- K_{A22} + K_{t22}\\right) \\left(\\tan^{2}{\\left(- A_{2} + \\theta_{2} + 2.61799387799149 \\right)} + 1\\right)}{\\left(1895.0 - q_{2}\\right) \\tan^{2}{\\left(- A_{2} + \\theta_{2} + 2.61799387799149 \\right)}} - \\frac{2.78472024004288 \\cdot 10^{-7}}{\\left(1 - 0.000527704485488127 q_{2}\\right)^{2} \\tan{\\left(- A_{2} + \\theta_{2} + 2.61799387799149 \\right)}}\\right)\\right)\\end{matrix}\\right]$"
      ],
      "text/plain": [
       "Matrix([\n",
       "[                                                                                                                                                                                                                                                                                                                                                                                                                                                                                                                                                                                                                                                                                                                                                                                                                                                                                                                                                                                                                                                                                                                                                                                                                                                                                                                                                                                                                                                                                                                                                                                                                                                                                                                                                                                                                                                                                                                                                                                                                                                                                                                                                                                                                                 0.000706713780918728*\\ddot{q_1}/sin(A_1 - theta_1 + 0.265290046303138) - 0.000706713780918728*\\dot{q_1}**2*(K_{A11} - K_{t11})*cos(A_1 - theta_1 + 0.265290046303138)/sin(A_1 - theta_1 + 0.265290046303138)**2],\n",
       "[                                                                                                                                                                                                                                                                                                                                                                                                                                                                                                                                                                                                                                                                        1.63591152990446e-6*\\ddot{q_1}*(-2866*sin(A_1 - theta_2) + 1858.0*sin(A_1 - theta_2 + 0.474729556542458))/(sin(A_1 - theta_1 + 0.265290046303138)*sin(-A_2 + theta_2 + 2.61799387799149)) + 0.00231481481481481*\\ddot{q_2}/sin(-A_2 + theta_2 + 2.61799387799149) + \\dot{q_1}*(\\dot{q_1}*(-1.63591152990446e-6*(K_{A11} - K_{t11})*(-2866*sin(A_1 - theta_2) + 1858.0*sin(A_1 - theta_2 + 0.474729556542458))*cos(A_1 - theta_1 + 0.265290046303138)/(sin(A_1 - theta_1 + 0.265290046303138)**2*sin(-A_2 + theta_2 + 2.61799387799149)) - 1.63591152990446e-6*(-K_{A21} + K_{t21})*(-2866*sin(A_1 - theta_2) + 1858.0*sin(A_1 - theta_2 + 0.474729556542458))*cos(-A_2 + theta_2 + 2.61799387799149)/(sin(A_1 - theta_1 + 0.265290046303138)*sin(-A_2 + theta_2 + 2.61799387799149)**2) + 1.63591152990446e-6*(-2866*(K_{A11} - K_{t21})*cos(A_1 - theta_2) + 1858.0*(K_{A11} - K_{t21})*cos(A_1 - theta_2 + 0.474729556542458))/(sin(A_1 - theta_1 + 0.265290046303138)*sin(-A_2 + theta_2 + 2.61799387799149))) + \\dot{q_2}*(-1.63591152990446e-6*(-K_{A22} + K_{t22})*(-2866*sin(A_1 - theta_2) + 1858.0*sin(A_1 - theta_2 + 0.474729556542458))*cos(-A_2 + theta_2 + 2.61799387799149)/(sin(A_1 - theta_1 + 0.265290046303138)*sin(-A_2 + theta_2 + 2.61799387799149)**2) + 1.63591152990446e-6*(2866*K_{t22}*cos(A_1 - theta_2) - 1858.0*K_{t22}*cos(A_1 - theta_2 + 0.474729556542458))/(sin(A_1 - theta_1 + 0.265290046303138)*sin(-A_2 + theta_2 + 2.61799387799149)))) + \\dot{q_2}*(-0.00231481481481481*\\dot{q_1}*(-K_{A21} + K_{t21})*cos(-A_2 + theta_2 + 2.61799387799149)/sin(-A_2 + theta_2 + 2.61799387799149)**2 - 0.00231481481481481*\\dot{q_2}*(-K_{A22} + K_{t22})*cos(-A_2 + theta_2 + 2.61799387799149)/sin(-A_2 + theta_2 + 2.61799387799149)**2)],\n",
       "[                                                                                                                                                                                                                                                                                                                                                                                                                                                                                                                                                                                                                                                                                                                                                                                                                                                                                                                                                                                                                                                                                                                                                                                                                                                                                                                                                                                                                                                                                                                                                                                                                                                                                                                                                                                                                                                                                                                                                                                                                                                                                                                            \\ddot{q_1}/((1841.0 - q_1)*tan(A_1 - theta_1 + 0.265290046303138)) + \\dot{q_1}**2*(-(K_{A11} - K_{t11})*(tan(A_1 - theta_1 + 0.265290046303138)**2 + 1)/((1841.0 - q_1)*tan(A_1 - theta_1 + 0.265290046303138)**2) + 2.95047828728276e-7/((1 - 0.000543183052688756*q_1)**2*tan(A_1 - theta_1 + 0.265290046303138)))],\n",
       "[0.00141342756183746*\\ddot{q_1}*(2866*sin(A_1 - A_2 + 2.61799387799149) - 1858.0*sin(A_1 - A_2 + 3.09272343453395))/((1895.0 - q_2)*(cos(-A_1 - A_2 + theta_1 + theta_2 + 2.35270383168836) - cos(A_1 - A_2 - theta_1 + theta_2 + 2.88328392429463))) - \\ddot{q_2}/((1895.0 - q_2)*tan(-A_2 + theta_2 + 2.61799387799149)) + \\dot{q_1}*(\\dot{q_1}*(0.00141342756183746*(2866*(K_{A11} - K_{A21})*cos(A_1 - A_2 + 2.61799387799149) - 1858.0*(K_{A11} - K_{A21})*cos(A_1 - A_2 + 3.09272343453395))/((1895.0 - q_2)*(cos(-A_1 - A_2 + theta_1 + theta_2 + 2.35270383168836) - cos(A_1 - A_2 - theta_1 + theta_2 + 2.88328392429463))) + 0.00141342756183746*((-K_{A11} - K_{A21} + K_{t11} + K_{t21})*sin(-A_1 - A_2 + theta_1 + theta_2 + 2.35270383168836) - (K_{A11} - K_{A21} - K_{t11} + K_{t21})*sin(A_1 - A_2 - theta_1 + theta_2 + 2.88328392429463))*(2866*sin(A_1 - A_2 + 2.61799387799149) - 1858.0*sin(A_1 - A_2 + 3.09272343453395))/((1895.0 - q_2)*(cos(-A_1 - A_2 + theta_1 + theta_2 + 2.35270383168836) - cos(A_1 - A_2 - theta_1 + theta_2 + 2.88328392429463))**2)) + \\dot{q_2}*(0.00141342756183746*(-2866*K_{A22}*cos(A_1 - A_2 + 2.61799387799149) + 1858.0*K_{A22}*cos(A_1 - A_2 + 3.09272343453395))/((1895.0 - q_2)*(cos(-A_1 - A_2 + theta_1 + theta_2 + 2.35270383168836) - cos(A_1 - A_2 - theta_1 + theta_2 + 2.88328392429463))) + 0.00141342756183746*((-K_{A22} + K_{t22})*sin(-A_1 - A_2 + theta_1 + theta_2 + 2.35270383168836) - (-K_{A22} + K_{t22})*sin(A_1 - A_2 - theta_1 + theta_2 + 2.88328392429463))*(2866*sin(A_1 - A_2 + 2.61799387799149) - 1858.0*sin(A_1 - A_2 + 3.09272343453395))/((1895.0 - q_2)*(cos(-A_1 - A_2 + theta_1 + theta_2 + 2.35270383168836) - cos(A_1 - A_2 - theta_1 + theta_2 + 2.88328392429463))**2) + 3.93600033928323e-10*(2866*sin(A_1 - A_2 + 2.61799387799149) - 1858.0*sin(A_1 - A_2 + 3.09272343453395))/((1 - 0.000527704485488127*q_2)**2*(cos(-A_1 - A_2 + theta_1 + theta_2 + 2.35270383168836) - cos(A_1 - A_2 - theta_1 + theta_2 + 2.88328392429463))))) + \\dot{q_2}*(\\dot{q_1}*(-K_{A21} + K_{t21})*(tan(-A_2 + theta_2 + 2.61799387799149)**2 + 1)/((1895.0 - q_2)*tan(-A_2 + theta_2 + 2.61799387799149)**2) + \\dot{q_2}*((-K_{A22} + K_{t22})*(tan(-A_2 + theta_2 + 2.61799387799149)**2 + 1)/((1895.0 - q_2)*tan(-A_2 + theta_2 + 2.61799387799149)**2) - 2.78472024004288e-7/((1 - 0.000527704485488127*q_2)**2*tan(-A_2 + theta_2 + 2.61799387799149))))]])"
      ]
     },
     "metadata": {},
     "output_type": "display_data"
    }
   ],
   "source": [
    "# Kv = K.subs(valores)\n",
    "Sdv = Sd.subs(valores)\n",
    "Sddv = Sdd.subs(valores)\n",
    "display(Sdv,Sddv)"
   ]
  },
  {
   "cell_type": "code",
   "execution_count": 20,
   "metadata": {},
   "outputs": [],
   "source": [
    "# Sdf = implemented_function('Sdf', lambda A1, A2, t1, t2, q1, q2: Sdv)\n",
    "# q1d, q2d, q1dd, q2dd = symbols('\\dot{q_1} \\dot{q_2} \\ddot{q_1} \\ddot{q_2}')\n",
    "variaveisdot = [(q1d, q1ds), (q2d, q2ds), (q1dd, q1dds), (q2dd, q2dds)]\n",
    "Sdv2 = Sdv.subs(variaveisdot)\n",
    "lamf = lambdify((A1, A2, t1, t2, q1, q2,q1ds,q2ds),Sdv2,'numpy')\n"
   ]
  },
  {
   "cell_type": "markdown",
   "metadata": {},
   "source": [
    "# Análise de posição"
   ]
  },
  {
   "cell_type": "code",
   "execution_count": 25,
   "metadata": {},
   "outputs": [
    {
     "data": {
      "text/latex": [
       "$\\displaystyle \\left[\\begin{matrix}\\left(1841.0 - q_{1}\\right) \\cos{\\left(\\theta_{1} \\right)} - 1415.0 \\cos{\\left(A_{1} + 0.265290046303138 \\right)} + 215.0\\\\\\left(1841.0 - q_{1}\\right) \\sin{\\left(\\theta_{1} \\right)} - 1415.0 \\sin{\\left(A_{1} + 0.265290046303138 \\right)} - 345.0\\end{matrix}\\right]$"
      ],
      "text/plain": [
       "Matrix([\n",
       "[(1841.0 - q_1)*cos(theta_1) - 1415.0*cos(A_1 + 0.265290046303138) + 215.0],\n",
       "[(1841.0 - q_1)*sin(theta_1) - 1415.0*sin(A_1 + 0.265290046303138) - 345.0]])"
      ]
     },
     "execution_count": 25,
     "metadata": {},
     "output_type": "execute_result"
    }
   ],
   "source": [
    "Matrix(F[:2]).subs(valores)"
   ]
  },
  {
   "cell_type": "code",
   "execution_count": 54,
   "metadata": {},
   "outputs": [],
   "source": [
    "iJ1 = lambdify((A1,t1,q1),simplify(J[[0,1],[0,2]].inv()).subs(valores),'numpy')\n",
    "F1 = lambdify((A1,t1,q1), Matrix(F[:2]).subs(valores),'numpy')"
   ]
  },
  {
   "cell_type": "code",
   "execution_count": 53,
   "metadata": {},
   "outputs": [
    {
     "data": {
      "text/latex": [
       "$\\displaystyle \\left[\\begin{matrix}\\frac{0.000706713780918728 \\cos{\\left(\\theta_{1} \\right)}}{\\sin{\\left(A_{1} - \\theta_{1} + 0.265290046303138 \\right)}} & \\frac{0.000706713780918728 \\sin{\\left(\\theta_{1} \\right)}}{\\sin{\\left(A_{1} - \\theta_{1} + 0.265290046303138 \\right)}}\\\\\\frac{\\cos{\\left(A_{1} + 0.265290046303138 \\right)}}{\\left(1841.0 - q_{1}\\right) \\sin{\\left(A_{1} - \\theta_{1} + 0.265290046303138 \\right)}} & \\frac{\\sin{\\left(A_{1} + 0.265290046303138 \\right)}}{\\left(1841.0 - q_{1}\\right) \\sin{\\left(A_{1} - \\theta_{1} + 0.265290046303138 \\right)}}\\end{matrix}\\right]$"
      ],
      "text/plain": [
       "Matrix([\n",
       "[            0.000706713780918728*cos(theta_1)/sin(A_1 - theta_1 + 0.265290046303138),             0.000706713780918728*sin(theta_1)/sin(A_1 - theta_1 + 0.265290046303138)],\n",
       "[cos(A_1 + 0.265290046303138)/((1841.0 - q_1)*sin(A_1 - theta_1 + 0.265290046303138)), sin(A_1 + 0.265290046303138)/((1841.0 - q_1)*sin(A_1 - theta_1 + 0.265290046303138))]])"
      ]
     },
     "execution_count": 53,
     "metadata": {},
     "output_type": "execute_result"
    }
   ],
   "source": [
    "simplify(J[[0,1],[0,2]].inv()).subs(valores)"
   ]
  },
  {
   "cell_type": "code",
   "execution_count": 38,
   "metadata": {},
   "outputs": [],
   "source": [
    "# Análise de posição\n",
    "def newtonR1(F1,iJ1,q1,A10,t10,tolmax, maxiter):\n",
    "    tol = np.linalg.norm(F1(A10,t10,q1))\n",
    "    x0 = np.array([A10,t10])\n",
    "    iter = 1\n",
    "    while tol > tolmax and iter <= maxiter:\n",
    "        x = x0 - np.matmul(iJ1(x0[0],x0[1],q1),F1(x0[0],x0[1],q1)).flatten()\n",
    "\n",
    "        tol = np.linalg.norm(F1(x0[0],x0[1],q1))\n",
    "        iter = iter + 1\n",
    "        x0 = x\n",
    "    A1v = x0[0]\n",
    "    t1v = x0[1]\n",
    "    return A1v, t1v, tol, iter\n",
    "    \n",
    "\n",
    "# def newtonR2(F1, F2,iJ1,iJ2,q1,q2,valzero,tolmax, maxiter):\n",
    "#     tol = norm(F(A0,B0,q));\n",
    "#     x10 = valzero;\n",
    "\n",
    "#     iter = 1;\n",
    "\n",
    "#     while tol > tolmax && iter <= maxiter\n",
    "\n",
    "#     x = x0 - iJ(x0(1),x0(2))*F(x0(1),x0(2),q);\n",
    "#     tol = norm(F(x(1),x(2),q));\n",
    "#     iter = iter + 1;\n",
    "#     x0 = x;\n",
    "#     endwhile\n",
    "\n",
    "#     return A1, A2, t1, t2\n"
   ]
  },
  {
   "cell_type": "code",
   "execution_count": 57,
   "metadata": {},
   "outputs": [],
   "source": [
    "tolmax = 0.005\n",
    "maxiter = 20\n",
    "\n",
    "q = np.arange(300.0,350.0,10.0)\n",
    "A1v = np.zeros(np.size(q))\n",
    "t1v = np.zeros(np.size(q))\n",
    "tol = np.zeros(np.size(q))\n",
    "iter = np.zeros(np.size(q))\n",
    "fvalor = np.zeros((np.size(q),2))\n",
    "\n",
    "\n",
    "for i in range(np.size(q)):\n",
    "    A1v[i], t1v[i],tol[i], iter[i] = newtonR1(F1,iJ1,q[i],0.0, np.pi/6,tolmax, maxiter)\n",
    "    fvalor[i,:] = F1(A1v[i],t1v[i],q[i]).flatten()"
   ]
  },
  {
   "cell_type": "code",
   "execution_count": 58,
   "metadata": {},
   "outputs": [
    {
     "data": {
      "text/plain": [
       "[<matplotlib.lines.Line2D at 0x20c98bf5100>]"
      ]
     },
     "execution_count": 58,
     "metadata": {},
     "output_type": "execute_result"
    },
    {
     "data": {
      "image/png": "[encoded data removed]",
      "text/plain": [
       "<Figure size 432x288 with 1 Axes>"
      ]
     },
     "metadata": {
      "needs_background": "light"
     },
     "output_type": "display_data"
    }
   ],
   "source": [
    "plt.plot(q,A1v)"
   ]
  },
  {
   "cell_type": "code",
   "execution_count": 21,
   "metadata": {},
   "outputs": [
    {
     "data": {
      "text/plain": [
       "(array([[ 813.21187592],\n",
       "        [-271.45808574]]),\n",
       " array([0.78539816, 0.78539816]))"
      ]
     },
     "execution_count": 21,
     "metadata": {},
     "output_type": "execute_result"
    }
   ],
   "source": [
    "A1v, t1v\n",
    "# q1 = 0.5\n",
    "# A10 = np.pi/4\n",
    "# t10 = np.pi/4"
   ]
  },
  {
   "cell_type": "code",
   "execution_count": null,
   "metadata": {},
   "outputs": [],
   "source": []
  }
 ],
 "metadata": {
  "interpreter": {
   "hash": "8003219c8c57211ee3be347d121ba14ebad7276cdae3d94be72d9e4e17f9edd5"
  },
  "kernelspec": {
   "display_name": "Python 3.8.8 64-bit ('base': conda)",
   "name": "python3"
  },
  "language_info": {
   "codemirror_mode": {
    "name": "ipython",
    "version": 3
   },
   "file_extension": ".py",
   "mimetype": "text/x-python",
   "name": "python",
   "nbconvert_exporter": "python",
   "pygments_lexer": "ipython3",
   "version": "3.8.8"
  },
  "orig_nbformat": 4
 },
 "nbformat": 4,
 "nbformat_minor": 2
}
